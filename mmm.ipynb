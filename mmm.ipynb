{
 "cells": [
  {
   "cell_type": "markdown",
   "id": "9668be79",
   "metadata": {},
   "source": [
    "https://www.pymc-marketing.io/en/stable/notebooks/\n",
    "\n",
    "https://medium.com/towards-data-science/calibrating-marketing-mix-models-in-python-49dce1a5b33d\n",
    "\n",
    "https://github.com/pymc-labs/pymc-marketing/issues/1457\n",
    "\n",
    "https://github.com/pymc-labs/pymc-marketing/discussions/1486"
   ]
  },
  {
   "cell_type": "markdown",
   "id": "b4d35d53",
   "metadata": {},
   "source": [
    "# Imports"
   ]
  },
  {
   "cell_type": "code",
   "execution_count": 1,
   "id": "ba6604e8",
   "metadata": {},
   "outputs": [
    {
     "name": "stderr",
     "output_type": "stream",
     "text": [
      "WARNING (pytensor.tensor.blas): Using NumPy C-API based implementation for BLAS functions.\n",
      "C:\\Users\\kbope\\anaconda3\\envs\\mmm\\Lib\\site-packages\\pandas\\core\\arrays\\masked.py:60: UserWarning: Pandas requires version '1.3.6' or newer of 'bottleneck' (version '1.3.5' currently installed).\n",
      "  from pandas.core import (\n"
     ]
    }
   ],
   "source": [
    "import pytensor  \n",
    "pytensor.config.floatX = 'float32' # Workaround for a bug in pymc_marketing\n",
    "\n",
    "import gc\n",
    "\n",
    "import numpy as np\n",
    "import pandas as pd\n",
    "\n",
    "from sklearn.preprocessing import MaxAbsScaler\n",
    "\n",
    "from cromp import CROMPTrain, CROMPPredict\n",
    "import cvxpy as cp\n",
    "\n",
    "import pymc\n",
    "from pymc_marketing.mmm import MMM, GeometricAdstock, LogisticSaturation, MichaelisMentenSaturation\n",
    "from pymc_marketing.prior import Prior\n",
    "\n",
    "import arviz as az\n",
    "import matplotlib.pyplot as plt\n",
    "import seaborn as sns"
   ]
  },
  {
   "cell_type": "markdown",
   "id": "7db7284f",
   "metadata": {},
   "source": [
    "# UDFs"
   ]
  },
  {
   "cell_type": "code",
   "execution_count": 2,
   "id": "576ccbfb",
   "metadata": {},
   "outputs": [],
   "source": [
    "def _mape(predictions, actuals):\n",
    "    return abs((predictions - actuals) / actuals).mean()\n",
    "\n",
    "def get_scaled_data(do_scaling, scaler_X, scaler_y, X, y=None, must_scale_feats=[]):\n",
    "    if do_scaling:\n",
    "        X_scaled = pd.DataFrame(data=scaler_X.transform(X), index=X.index, columns=list(X.columns))\n",
    "        if y is not None:\n",
    "            y_scaled = pd.Series(data=scaler_y.transform(y.values.reshape(-1, 1)).flatten(), index=y.index)\n",
    "        else:\n",
    "            y_scaled = y\n",
    "    elif len(must_scale_feats):\n",
    "        X_scaled = pd.DataFrame(data=scaler_X.transform(X), index=X.index, columns=list(X.columns))\n",
    "        for feat in X.columns:\n",
    "            if feat not in must_scale_feats:\n",
    "                X_scaled[feat] = X[feat]\n",
    "        y_scaled = y\n",
    "    else:\n",
    "        X_scaled = X\n",
    "        y_scaled = y\n",
    "    \n",
    "    return X_scaled, y_scaled"
   ]
  },
  {
   "cell_type": "markdown",
   "id": "3454ab1c",
   "metadata": {},
   "source": [
    "# Data"
   ]
  },
  {
   "cell_type": "markdown",
   "id": "204cb949",
   "metadata": {},
   "source": [
    "## Load"
   ]
  },
  {
   "cell_type": "code",
   "execution_count": 3,
   "id": "b83551f3",
   "metadata": {},
   "outputs": [
    {
     "data": {
      "text/html": [
       "<div>\n",
       "<style scoped>\n",
       "    .dataframe tbody tr th:only-of-type {\n",
       "        vertical-align: middle;\n",
       "    }\n",
       "\n",
       "    .dataframe tbody tr th {\n",
       "        vertical-align: top;\n",
       "    }\n",
       "\n",
       "    .dataframe thead th {\n",
       "        text-align: right;\n",
       "    }\n",
       "</style>\n",
       "<table border=\"1\" class=\"dataframe\">\n",
       "  <thead>\n",
       "    <tr style=\"text-align: right;\">\n",
       "      <th></th>\n",
       "      <th>y</th>\n",
       "      <th>demand_proxy</th>\n",
       "      <th>tv_spend_raw</th>\n",
       "      <th>social_spend_raw</th>\n",
       "      <th>search_spend_raw</th>\n",
       "    </tr>\n",
       "    <tr>\n",
       "      <th>date</th>\n",
       "      <th></th>\n",
       "      <th></th>\n",
       "      <th></th>\n",
       "      <th></th>\n",
       "      <th></th>\n",
       "    </tr>\n",
       "  </thead>\n",
       "  <tbody>\n",
       "    <tr>\n",
       "      <th>2021-01-03</th>\n",
       "      <td>489.566208</td>\n",
       "      <td>330.831226</td>\n",
       "      <td>5501.441206</td>\n",
       "      <td>5894.908137</td>\n",
       "      <td>7182.864568</td>\n",
       "    </tr>\n",
       "    <tr>\n",
       "      <th>2021-01-10</th>\n",
       "      <td>441.138691</td>\n",
       "      <td>317.461345</td>\n",
       "      <td>2507.942445</td>\n",
       "      <td>5791.555554</td>\n",
       "      <td>6312.367780</td>\n",
       "    </tr>\n",
       "    <tr>\n",
       "      <th>2021-01-17</th>\n",
       "      <td>152.309451</td>\n",
       "      <td>89.223970</td>\n",
       "      <td>1049.661462</td>\n",
       "      <td>1081.642708</td>\n",
       "      <td>1429.740857</td>\n",
       "    </tr>\n",
       "    <tr>\n",
       "      <th>2021-01-24</th>\n",
       "      <td>367.160745</td>\n",
       "      <td>169.729439</td>\n",
       "      <td>3008.937195</td>\n",
       "      <td>5323.913163</td>\n",
       "      <td>6185.584938</td>\n",
       "    </tr>\n",
       "    <tr>\n",
       "      <th>2021-01-31</th>\n",
       "      <td>465.083840</td>\n",
       "      <td>349.047382</td>\n",
       "      <td>3171.490614</td>\n",
       "      <td>6830.642777</td>\n",
       "      <td>7227.783598</td>\n",
       "    </tr>\n",
       "  </tbody>\n",
       "</table>\n",
       "</div>"
      ],
      "text/plain": [
       "                     y  demand_proxy  tv_spend_raw  social_spend_raw  \\\n",
       "date                                                                   \n",
       "2021-01-03  489.566208    330.831226   5501.441206       5894.908137   \n",
       "2021-01-10  441.138691    317.461345   2507.942445       5791.555554   \n",
       "2021-01-17  152.309451     89.223970   1049.661462       1081.642708   \n",
       "2021-01-24  367.160745    169.729439   3008.937195       5323.913163   \n",
       "2021-01-31  465.083840    349.047382   3171.490614       6830.642777   \n",
       "\n",
       "            search_spend_raw  \n",
       "date                          \n",
       "2021-01-03       7182.864568  \n",
       "2021-01-10       6312.367780  \n",
       "2021-01-17       1429.740857  \n",
       "2021-01-24       6185.584938  \n",
       "2021-01-31       7227.783598  "
      ]
     },
     "execution_count": 3,
     "metadata": {},
     "output_type": "execute_result"
    }
   ],
   "source": [
    "df1 = pd.read_csv('data/data1.csv')\n",
    "df1.rename(columns={'sales': 'y'}, inplace=True)\n",
    "df1['date'] = pd.to_datetime(df1.date, format='%Y-%m-%d')\n",
    "df1.set_index('date', inplace=True)\n",
    "df1.head()"
   ]
  },
  {
   "cell_type": "code",
   "execution_count": 4,
   "id": "ca024a60",
   "metadata": {},
   "outputs": [
    {
     "data": {
      "text/html": [
       "<div>\n",
       "<style scoped>\n",
       "    .dataframe tbody tr th:only-of-type {\n",
       "        vertical-align: middle;\n",
       "    }\n",
       "\n",
       "    .dataframe tbody tr th {\n",
       "        vertical-align: top;\n",
       "    }\n",
       "\n",
       "    .dataframe thead th {\n",
       "        text-align: right;\n",
       "    }\n",
       "</style>\n",
       "<table border=\"1\" class=\"dataframe\">\n",
       "  <thead>\n",
       "    <tr style=\"text-align: right;\">\n",
       "      <th></th>\n",
       "      <th>y</th>\n",
       "      <th>x1</th>\n",
       "      <th>x2</th>\n",
       "      <th>event_1</th>\n",
       "      <th>event_2</th>\n",
       "      <th>dayofyear</th>\n",
       "    </tr>\n",
       "    <tr>\n",
       "      <th>date</th>\n",
       "      <th></th>\n",
       "      <th></th>\n",
       "      <th></th>\n",
       "      <th></th>\n",
       "      <th></th>\n",
       "      <th></th>\n",
       "    </tr>\n",
       "  </thead>\n",
       "  <tbody>\n",
       "    <tr>\n",
       "      <th>2018-04-02</th>\n",
       "      <td>3984.662237</td>\n",
       "      <td>0.318580</td>\n",
       "      <td>0.0</td>\n",
       "      <td>0</td>\n",
       "      <td>0</td>\n",
       "      <td>92</td>\n",
       "    </tr>\n",
       "    <tr>\n",
       "      <th>2018-04-09</th>\n",
       "      <td>3762.871794</td>\n",
       "      <td>0.112388</td>\n",
       "      <td>0.0</td>\n",
       "      <td>0</td>\n",
       "      <td>0</td>\n",
       "      <td>99</td>\n",
       "    </tr>\n",
       "    <tr>\n",
       "      <th>2018-04-16</th>\n",
       "      <td>4466.967388</td>\n",
       "      <td>0.292400</td>\n",
       "      <td>0.0</td>\n",
       "      <td>0</td>\n",
       "      <td>0</td>\n",
       "      <td>106</td>\n",
       "    </tr>\n",
       "    <tr>\n",
       "      <th>2018-04-23</th>\n",
       "      <td>3864.219373</td>\n",
       "      <td>0.071399</td>\n",
       "      <td>0.0</td>\n",
       "      <td>0</td>\n",
       "      <td>0</td>\n",
       "      <td>113</td>\n",
       "    </tr>\n",
       "    <tr>\n",
       "      <th>2018-04-30</th>\n",
       "      <td>4441.625278</td>\n",
       "      <td>0.386745</td>\n",
       "      <td>0.0</td>\n",
       "      <td>0</td>\n",
       "      <td>0</td>\n",
       "      <td>120</td>\n",
       "    </tr>\n",
       "  </tbody>\n",
       "</table>\n",
       "</div>"
      ],
      "text/plain": [
       "                      y        x1   x2  event_1  event_2  dayofyear\n",
       "date                                                               \n",
       "2018-04-02  3984.662237  0.318580  0.0        0        0         92\n",
       "2018-04-09  3762.871794  0.112388  0.0        0        0         99\n",
       "2018-04-16  4466.967388  0.292400  0.0        0        0        106\n",
       "2018-04-23  3864.219373  0.071399  0.0        0        0        113\n",
       "2018-04-30  4441.625278  0.386745  0.0        0        0        120"
      ]
     },
     "execution_count": 4,
     "metadata": {},
     "output_type": "execute_result"
    }
   ],
   "source": [
    "df2 = pd.read_csv('data/data2.csv')\n",
    "df2['date'] = pd.to_datetime(df2.date_week, format='%d-%m-%Y')\n",
    "df2.drop('date_week', axis=1, inplace=True)\n",
    "df2.set_index('date', inplace=True)\n",
    "df2.head()"
   ]
  },
  {
   "cell_type": "code",
   "execution_count": 5,
   "id": "5fbb3a97",
   "metadata": {},
   "outputs": [
    {
     "data": {
      "text/html": [
       "<div>\n",
       "<style scoped>\n",
       "    .dataframe tbody tr th:only-of-type {\n",
       "        vertical-align: middle;\n",
       "    }\n",
       "\n",
       "    .dataframe tbody tr th {\n",
       "        vertical-align: top;\n",
       "    }\n",
       "\n",
       "    .dataframe thead th {\n",
       "        text-align: right;\n",
       "    }\n",
       "</style>\n",
       "<table border=\"1\" class=\"dataframe\">\n",
       "  <thead>\n",
       "    <tr style=\"text-align: right;\">\n",
       "      <th></th>\n",
       "      <th>y</th>\n",
       "      <th>Direct Mail</th>\n",
       "      <th>Insert</th>\n",
       "      <th>Newspaper</th>\n",
       "      <th>Online Display</th>\n",
       "      <th>Radio</th>\n",
       "      <th>Social Media</th>\n",
       "      <th>TV</th>\n",
       "      <th>hldy_Black Friday</th>\n",
       "      <th>hldy_Christmas Day</th>\n",
       "      <th>...</th>\n",
       "      <th>hldy_Memorial Day</th>\n",
       "      <th>hldy_Mother's Day</th>\n",
       "      <th>hldy_NYE</th>\n",
       "      <th>hldy_New Year's Day</th>\n",
       "      <th>hldy_Pre Thanksgiving</th>\n",
       "      <th>hldy_Presidents Day</th>\n",
       "      <th>hldy_Prime Day</th>\n",
       "      <th>hldy_Thanksgiving</th>\n",
       "      <th>hldy_Valentine's Day</th>\n",
       "      <th>hldy_Veterans Day</th>\n",
       "    </tr>\n",
       "    <tr>\n",
       "      <th>date</th>\n",
       "      <th></th>\n",
       "      <th></th>\n",
       "      <th></th>\n",
       "      <th></th>\n",
       "      <th></th>\n",
       "      <th></th>\n",
       "      <th></th>\n",
       "      <th></th>\n",
       "      <th></th>\n",
       "      <th></th>\n",
       "      <th></th>\n",
       "      <th></th>\n",
       "      <th></th>\n",
       "      <th></th>\n",
       "      <th></th>\n",
       "      <th></th>\n",
       "      <th></th>\n",
       "      <th></th>\n",
       "      <th></th>\n",
       "      <th></th>\n",
       "      <th></th>\n",
       "    </tr>\n",
       "  </thead>\n",
       "  <tbody>\n",
       "    <tr>\n",
       "      <th>2014-08-03</th>\n",
       "      <td>72051457.64</td>\n",
       "      <td>678410.26</td>\n",
       "      <td>129759.66</td>\n",
       "      <td>507635.16</td>\n",
       "      <td>61364.75</td>\n",
       "      <td>254134.14</td>\n",
       "      <td>0.0</td>\n",
       "      <td>216725.59</td>\n",
       "      <td>0</td>\n",
       "      <td>0</td>\n",
       "      <td>...</td>\n",
       "      <td>0</td>\n",
       "      <td>0</td>\n",
       "      <td>0</td>\n",
       "      <td>0</td>\n",
       "      <td>0</td>\n",
       "      <td>0</td>\n",
       "      <td>0</td>\n",
       "      <td>0</td>\n",
       "      <td>0</td>\n",
       "      <td>0</td>\n",
       "    </tr>\n",
       "    <tr>\n",
       "      <th>2014-08-10</th>\n",
       "      <td>78794770.54</td>\n",
       "      <td>661097.71</td>\n",
       "      <td>70355.33</td>\n",
       "      <td>625719.37</td>\n",
       "      <td>132643.90</td>\n",
       "      <td>106602.98</td>\n",
       "      <td>0.0</td>\n",
       "      <td>108919.26</td>\n",
       "      <td>0</td>\n",
       "      <td>0</td>\n",
       "      <td>...</td>\n",
       "      <td>0</td>\n",
       "      <td>0</td>\n",
       "      <td>0</td>\n",
       "      <td>0</td>\n",
       "      <td>0</td>\n",
       "      <td>0</td>\n",
       "      <td>0</td>\n",
       "      <td>0</td>\n",
       "      <td>0</td>\n",
       "      <td>0</td>\n",
       "    </tr>\n",
       "    <tr>\n",
       "      <th>2014-08-17</th>\n",
       "      <td>70071185.56</td>\n",
       "      <td>1874338.43</td>\n",
       "      <td>107720.37</td>\n",
       "      <td>277532.61</td>\n",
       "      <td>76741.27</td>\n",
       "      <td>59011.42</td>\n",
       "      <td>0.0</td>\n",
       "      <td>74032.19</td>\n",
       "      <td>0</td>\n",
       "      <td>0</td>\n",
       "      <td>...</td>\n",
       "      <td>0</td>\n",
       "      <td>0</td>\n",
       "      <td>0</td>\n",
       "      <td>0</td>\n",
       "      <td>0</td>\n",
       "      <td>0</td>\n",
       "      <td>0</td>\n",
       "      <td>0</td>\n",
       "      <td>0</td>\n",
       "      <td>0</td>\n",
       "    </tr>\n",
       "    <tr>\n",
       "      <th>2014-08-24</th>\n",
       "      <td>68642464.59</td>\n",
       "      <td>306583.37</td>\n",
       "      <td>141708.61</td>\n",
       "      <td>186028.61</td>\n",
       "      <td>193043.55</td>\n",
       "      <td>178010.46</td>\n",
       "      <td>0.0</td>\n",
       "      <td>110995.66</td>\n",
       "      <td>0</td>\n",
       "      <td>0</td>\n",
       "      <td>...</td>\n",
       "      <td>0</td>\n",
       "      <td>0</td>\n",
       "      <td>0</td>\n",
       "      <td>0</td>\n",
       "      <td>0</td>\n",
       "      <td>0</td>\n",
       "      <td>0</td>\n",
       "      <td>0</td>\n",
       "      <td>0</td>\n",
       "      <td>0</td>\n",
       "    </tr>\n",
       "    <tr>\n",
       "      <th>2014-08-31</th>\n",
       "      <td>86190784.65</td>\n",
       "      <td>2366274.16</td>\n",
       "      <td>160691.30</td>\n",
       "      <td>706694.09</td>\n",
       "      <td>249612.89</td>\n",
       "      <td>144097.56</td>\n",
       "      <td>0.0</td>\n",
       "      <td>225140.84</td>\n",
       "      <td>0</td>\n",
       "      <td>0</td>\n",
       "      <td>...</td>\n",
       "      <td>0</td>\n",
       "      <td>0</td>\n",
       "      <td>0</td>\n",
       "      <td>0</td>\n",
       "      <td>0</td>\n",
       "      <td>0</td>\n",
       "      <td>0</td>\n",
       "      <td>0</td>\n",
       "      <td>0</td>\n",
       "      <td>0</td>\n",
       "    </tr>\n",
       "  </tbody>\n",
       "</table>\n",
       "<p>5 rows × 30 columns</p>\n",
       "</div>"
      ],
      "text/plain": [
       "                      y  Direct Mail     Insert  Newspaper  Online Display  \\\n",
       "date                                                                         \n",
       "2014-08-03  72051457.64    678410.26  129759.66  507635.16        61364.75   \n",
       "2014-08-10  78794770.54    661097.71   70355.33  625719.37       132643.90   \n",
       "2014-08-17  70071185.56   1874338.43  107720.37  277532.61        76741.27   \n",
       "2014-08-24  68642464.59    306583.37  141708.61  186028.61       193043.55   \n",
       "2014-08-31  86190784.65   2366274.16  160691.30  706694.09       249612.89   \n",
       "\n",
       "                Radio  Social Media         TV  hldy_Black Friday  \\\n",
       "date                                                                \n",
       "2014-08-03  254134.14           0.0  216725.59                  0   \n",
       "2014-08-10  106602.98           0.0  108919.26                  0   \n",
       "2014-08-17   59011.42           0.0   74032.19                  0   \n",
       "2014-08-24  178010.46           0.0  110995.66                  0   \n",
       "2014-08-31  144097.56           0.0  225140.84                  0   \n",
       "\n",
       "            hldy_Christmas Day  ...  hldy_Memorial Day  hldy_Mother's Day  \\\n",
       "date                            ...                                         \n",
       "2014-08-03                   0  ...                  0                  0   \n",
       "2014-08-10                   0  ...                  0                  0   \n",
       "2014-08-17                   0  ...                  0                  0   \n",
       "2014-08-24                   0  ...                  0                  0   \n",
       "2014-08-31                   0  ...                  0                  0   \n",
       "\n",
       "            hldy_NYE  hldy_New Year's Day  hldy_Pre Thanksgiving  \\\n",
       "date                                                               \n",
       "2014-08-03         0                    0                      0   \n",
       "2014-08-10         0                    0                      0   \n",
       "2014-08-17         0                    0                      0   \n",
       "2014-08-24         0                    0                      0   \n",
       "2014-08-31         0                    0                      0   \n",
       "\n",
       "            hldy_Presidents Day  hldy_Prime Day  hldy_Thanksgiving  \\\n",
       "date                                                                 \n",
       "2014-08-03                    0               0                  0   \n",
       "2014-08-10                    0               0                  0   \n",
       "2014-08-17                    0               0                  0   \n",
       "2014-08-24                    0               0                  0   \n",
       "2014-08-31                    0               0                  0   \n",
       "\n",
       "            hldy_Valentine's Day  hldy_Veterans Day  \n",
       "date                                                 \n",
       "2014-08-03                     0                  0  \n",
       "2014-08-10                     0                  0  \n",
       "2014-08-17                     0                  0  \n",
       "2014-08-24                     0                  0  \n",
       "2014-08-31                     0                  0  \n",
       "\n",
       "[5 rows x 30 columns]"
      ]
     },
     "execution_count": 5,
     "metadata": {},
     "output_type": "execute_result"
    }
   ],
   "source": [
    "df3 = pd.read_csv('data/data3.csv')\n",
    "df3.rename(columns={'sales': 'y'}, inplace=True)\n",
    "df3['date'] = pd.to_datetime(df3.wk_strt_dt, format='%Y-%m-%d')\n",
    "df3.drop('wk_strt_dt', axis=1, inplace=True)\n",
    "df3.set_index('date', inplace=True)\n",
    "df3.head()"
   ]
  },
  {
   "cell_type": "code",
   "execution_count": 6,
   "id": "dc35bb9e",
   "metadata": {},
   "outputs": [
    {
     "data": {
      "text/html": [
       "<div>\n",
       "<style scoped>\n",
       "    .dataframe tbody tr th:only-of-type {\n",
       "        vertical-align: middle;\n",
       "    }\n",
       "\n",
       "    .dataframe tbody tr th {\n",
       "        vertical-align: top;\n",
       "    }\n",
       "\n",
       "    .dataframe thead th {\n",
       "        text-align: right;\n",
       "    }\n",
       "</style>\n",
       "<table border=\"1\" class=\"dataframe\">\n",
       "  <thead>\n",
       "    <tr style=\"text-align: right;\">\n",
       "      <th></th>\n",
       "      <th>holiday_signal</th>\n",
       "      <th>competitor_offers</th>\n",
       "      <th>x1</th>\n",
       "      <th>x2</th>\n",
       "      <th>market_growth</th>\n",
       "      <th>y</th>\n",
       "    </tr>\n",
       "    <tr>\n",
       "      <th>date</th>\n",
       "      <th></th>\n",
       "      <th></th>\n",
       "      <th></th>\n",
       "      <th></th>\n",
       "      <th></th>\n",
       "      <th></th>\n",
       "    </tr>\n",
       "  </thead>\n",
       "  <tbody>\n",
       "    <tr>\n",
       "      <th>2022-01-01</th>\n",
       "      <td>5.244234e-45</td>\n",
       "      <td>2.000000</td>\n",
       "      <td>4.850376</td>\n",
       "      <td>12.239569</td>\n",
       "      <td>0.778279</td>\n",
       "      <td>8.236027</td>\n",
       "    </tr>\n",
       "    <tr>\n",
       "      <th>2022-01-02</th>\n",
       "      <td>9.276916e-45</td>\n",
       "      <td>2.000009</td>\n",
       "      <td>4.897980</td>\n",
       "      <td>12.349051</td>\n",
       "      <td>0.780413</td>\n",
       "      <td>9.470106</td>\n",
       "    </tr>\n",
       "    <tr>\n",
       "      <th>2022-01-03</th>\n",
       "      <td>1.638439e-44</td>\n",
       "      <td>2.000036</td>\n",
       "      <td>4.848861</td>\n",
       "      <td>12.236060</td>\n",
       "      <td>0.782539</td>\n",
       "      <td>9.800233</td>\n",
       "    </tr>\n",
       "    <tr>\n",
       "      <th>2022-01-04</th>\n",
       "      <td>2.889097e-44</td>\n",
       "      <td>2.000082</td>\n",
       "      <td>4.685502</td>\n",
       "      <td>11.860301</td>\n",
       "      <td>0.784657</td>\n",
       "      <td>9.743402</td>\n",
       "    </tr>\n",
       "    <tr>\n",
       "      <th>2022-01-05</th>\n",
       "      <td>5.086267e-44</td>\n",
       "      <td>2.000146</td>\n",
       "      <td>4.906353</td>\n",
       "      <td>12.368215</td>\n",
       "      <td>0.786768</td>\n",
       "      <td>10.112234</td>\n",
       "    </tr>\n",
       "  </tbody>\n",
       "</table>\n",
       "</div>"
      ],
      "text/plain": [
       "            holiday_signal  competitor_offers        x1         x2  \\\n",
       "date                                                                 \n",
       "2022-01-01    5.244234e-45           2.000000  4.850376  12.239569   \n",
       "2022-01-02    9.276916e-45           2.000009  4.897980  12.349051   \n",
       "2022-01-03    1.638439e-44           2.000036  4.848861  12.236060   \n",
       "2022-01-04    2.889097e-44           2.000082  4.685502  11.860301   \n",
       "2022-01-05    5.086267e-44           2.000146  4.906353  12.368215   \n",
       "\n",
       "            market_growth          y  \n",
       "date                                  \n",
       "2022-01-01       0.778279   8.236027  \n",
       "2022-01-02       0.780413   9.470106  \n",
       "2022-01-03       0.782539   9.800233  \n",
       "2022-01-04       0.784657   9.743402  \n",
       "2022-01-05       0.786768  10.112234  "
      ]
     },
     "execution_count": 6,
     "metadata": {},
     "output_type": "execute_result"
    }
   ],
   "source": [
    "df4 = pd.read_csv('data/data4.csv')\n",
    "df4['date'] = pd.to_datetime(df4.date_week, format='%Y-%m-%d')\n",
    "df4.drop('date_week', axis=1, inplace=True)\n",
    "df4.set_index('date', inplace=True)\n",
    "df4.head()"
   ]
  },
  {
   "cell_type": "code",
   "execution_count": 7,
   "id": "c381669c",
   "metadata": {},
   "outputs": [],
   "source": [
    "causal_dag = \"\"\"digraph {x1 -> y;\n",
    "                         x2 -> y;\n",
    "                         x1 -> x2;\n",
    "                         holiday_signal -> y;\n",
    "                         holiday_signal -> x1;\n",
    "                         holiday_signal -> x2;\n",
    "                         competitor_offers -> x2;\n",
    "                         competitor_offers -> y;\n",
    "                         market_growth -> y;}\"\"\""
   ]
  },
  {
   "cell_type": "code",
   "execution_count": 8,
   "id": "db027963",
   "metadata": {},
   "outputs": [
    {
     "data": {
      "text/html": [
       "<div>\n",
       "<style scoped>\n",
       "    .dataframe tbody tr th:only-of-type {\n",
       "        vertical-align: middle;\n",
       "    }\n",
       "\n",
       "    .dataframe tbody tr th {\n",
       "        vertical-align: top;\n",
       "    }\n",
       "\n",
       "    .dataframe thead th {\n",
       "        text-align: right;\n",
       "    }\n",
       "</style>\n",
       "<table border=\"1\" class=\"dataframe\">\n",
       "  <thead>\n",
       "    <tr style=\"text-align: right;\">\n",
       "      <th></th>\n",
       "      <th>x1</th>\n",
       "      <th>x2</th>\n",
       "      <th>event_1</th>\n",
       "      <th>event_2</th>\n",
       "      <th>y</th>\n",
       "    </tr>\n",
       "    <tr>\n",
       "      <th>date</th>\n",
       "      <th></th>\n",
       "      <th></th>\n",
       "      <th></th>\n",
       "      <th></th>\n",
       "      <th></th>\n",
       "    </tr>\n",
       "  </thead>\n",
       "  <tbody>\n",
       "    <tr>\n",
       "      <th>2018-04-02</th>\n",
       "      <td>0.294756</td>\n",
       "      <td>0.0</td>\n",
       "      <td>0.0</td>\n",
       "      <td>0.0</td>\n",
       "      <td>7.787554</td>\n",
       "    </tr>\n",
       "    <tr>\n",
       "      <th>2018-04-09</th>\n",
       "      <td>0.938322</td>\n",
       "      <td>0.0</td>\n",
       "      <td>0.0</td>\n",
       "      <td>0.0</td>\n",
       "      <td>8.788564</td>\n",
       "    </tr>\n",
       "    <tr>\n",
       "      <th>2018-04-16</th>\n",
       "      <td>0.139732</td>\n",
       "      <td>0.0</td>\n",
       "      <td>0.0</td>\n",
       "      <td>0.0</td>\n",
       "      <td>8.815248</td>\n",
       "    </tr>\n",
       "    <tr>\n",
       "      <th>2018-04-23</th>\n",
       "      <td>0.261709</td>\n",
       "      <td>0.0</td>\n",
       "      <td>0.0</td>\n",
       "      <td>0.0</td>\n",
       "      <td>8.583922</td>\n",
       "    </tr>\n",
       "    <tr>\n",
       "      <th>2018-04-30</th>\n",
       "      <td>0.374697</td>\n",
       "      <td>0.0</td>\n",
       "      <td>0.0</td>\n",
       "      <td>0.0</td>\n",
       "      <td>8.775528</td>\n",
       "    </tr>\n",
       "  </tbody>\n",
       "</table>\n",
       "</div>"
      ],
      "text/plain": [
       "                  x1   x2  event_1  event_2         y\n",
       "date                                                 \n",
       "2018-04-02  0.294756  0.0      0.0      0.0  7.787554\n",
       "2018-04-09  0.938322  0.0      0.0      0.0  8.788564\n",
       "2018-04-16  0.139732  0.0      0.0      0.0  8.815248\n",
       "2018-04-23  0.261709  0.0      0.0      0.0  8.583922\n",
       "2018-04-30  0.374697  0.0      0.0      0.0  8.775528"
      ]
     },
     "execution_count": 8,
     "metadata": {},
     "output_type": "execute_result"
    }
   ],
   "source": [
    "df5 = pd.read_csv('data/data5.csv')\n",
    "df5['date'] = pd.to_datetime(df5.date_week, format='%Y-%m-%d')\n",
    "df5.drop('date_week', axis=1, inplace=True)\n",
    "df5.set_index('date', inplace=True)\n",
    "df5.head()"
   ]
  },
  {
   "cell_type": "markdown",
   "id": "d6018d33",
   "metadata": {},
   "source": [
    "## Generate"
   ]
  },
  {
   "cell_type": "code",
   "execution_count": null,
   "id": "06990459",
   "metadata": {},
   "outputs": [],
   "source": []
  },
  {
   "cell_type": "markdown",
   "id": "fe856071",
   "metadata": {},
   "source": [
    "# Pre-process"
   ]
  },
  {
   "cell_type": "code",
   "execution_count": 9,
   "id": "8175fad7",
   "metadata": {},
   "outputs": [],
   "source": [
    "df = df4.copy()\n",
    "do_causal = False\n",
    "\n",
    "#channel_columns = ['tv_spend_raw', 'social_spend_raw', 'search_spend_raw']\n",
    "#control_columns = ['demand_proxy']\n",
    "\n",
    "#channel_columns = ['x1', 'x2']\n",
    "#control_columns = ['event_1', 'event_2']\n",
    "\n",
    "#channel_columns = ['Direct Mail', 'Insert', 'Newspaper', 'Online Display', 'Radio', 'Social Media', 'TV']\n",
    "#control_columns = [col for col in df.columns if \"hldy_\" in col]\n",
    "\n",
    "channel_columns = ['x1', 'x2']\n",
    "control_columns = ['holiday_signal']\n",
    "do_causal = True\n",
    "\n",
    "#channel_columns = ['x1', 'x2']\n",
    "#control_columns = ['event_1', 'event_2']"
   ]
  },
  {
   "cell_type": "code",
   "execution_count": 10,
   "id": "c5248236",
   "metadata": {},
   "outputs": [
    {
     "data": {
      "text/html": [
       "<div>\n",
       "<style scoped>\n",
       "    .dataframe tbody tr th:only-of-type {\n",
       "        vertical-align: middle;\n",
       "    }\n",
       "\n",
       "    .dataframe tbody tr th {\n",
       "        vertical-align: top;\n",
       "    }\n",
       "\n",
       "    .dataframe thead th {\n",
       "        text-align: right;\n",
       "    }\n",
       "</style>\n",
       "<table border=\"1\" class=\"dataframe\">\n",
       "  <thead>\n",
       "    <tr style=\"text-align: right;\">\n",
       "      <th></th>\n",
       "      <th>holiday_signal</th>\n",
       "      <th>competitor_offers</th>\n",
       "      <th>x1</th>\n",
       "      <th>x2</th>\n",
       "      <th>market_growth</th>\n",
       "      <th>y</th>\n",
       "      <th>t</th>\n",
       "    </tr>\n",
       "    <tr>\n",
       "      <th>date</th>\n",
       "      <th></th>\n",
       "      <th></th>\n",
       "      <th></th>\n",
       "      <th></th>\n",
       "      <th></th>\n",
       "      <th></th>\n",
       "      <th></th>\n",
       "    </tr>\n",
       "  </thead>\n",
       "  <tbody>\n",
       "    <tr>\n",
       "      <th>2022-01-01</th>\n",
       "      <td>5.244234e-45</td>\n",
       "      <td>2.000000</td>\n",
       "      <td>4.850376</td>\n",
       "      <td>12.239569</td>\n",
       "      <td>0.778279</td>\n",
       "      <td>8.236027</td>\n",
       "      <td>0</td>\n",
       "    </tr>\n",
       "    <tr>\n",
       "      <th>2022-01-02</th>\n",
       "      <td>9.276916e-45</td>\n",
       "      <td>2.000009</td>\n",
       "      <td>4.897980</td>\n",
       "      <td>12.349051</td>\n",
       "      <td>0.780413</td>\n",
       "      <td>9.470106</td>\n",
       "      <td>1</td>\n",
       "    </tr>\n",
       "    <tr>\n",
       "      <th>2022-01-03</th>\n",
       "      <td>1.638439e-44</td>\n",
       "      <td>2.000036</td>\n",
       "      <td>4.848861</td>\n",
       "      <td>12.236060</td>\n",
       "      <td>0.782539</td>\n",
       "      <td>9.800233</td>\n",
       "      <td>2</td>\n",
       "    </tr>\n",
       "    <tr>\n",
       "      <th>2022-01-04</th>\n",
       "      <td>2.889097e-44</td>\n",
       "      <td>2.000082</td>\n",
       "      <td>4.685502</td>\n",
       "      <td>11.860301</td>\n",
       "      <td>0.784657</td>\n",
       "      <td>9.743402</td>\n",
       "      <td>3</td>\n",
       "    </tr>\n",
       "    <tr>\n",
       "      <th>2022-01-05</th>\n",
       "      <td>5.086267e-44</td>\n",
       "      <td>2.000146</td>\n",
       "      <td>4.906353</td>\n",
       "      <td>12.368215</td>\n",
       "      <td>0.786768</td>\n",
       "      <td>10.112234</td>\n",
       "      <td>4</td>\n",
       "    </tr>\n",
       "  </tbody>\n",
       "</table>\n",
       "</div>"
      ],
      "text/plain": [
       "            holiday_signal  competitor_offers        x1         x2  \\\n",
       "date                                                                 \n",
       "2022-01-01    5.244234e-45           2.000000  4.850376  12.239569   \n",
       "2022-01-02    9.276916e-45           2.000009  4.897980  12.349051   \n",
       "2022-01-03    1.638439e-44           2.000036  4.848861  12.236060   \n",
       "2022-01-04    2.889097e-44           2.000082  4.685502  11.860301   \n",
       "2022-01-05    5.086267e-44           2.000146  4.906353  12.368215   \n",
       "\n",
       "            market_growth          y  t  \n",
       "date                                     \n",
       "2022-01-01       0.778279   8.236027  0  \n",
       "2022-01-02       0.780413   9.470106  1  \n",
       "2022-01-03       0.782539   9.800233  2  \n",
       "2022-01-04       0.784657   9.743402  3  \n",
       "2022-01-05       0.786768  10.112234  4  "
      ]
     },
     "execution_count": 10,
     "metadata": {},
     "output_type": "execute_result"
    }
   ],
   "source": [
    "df['t'] = range(df.shape[0])\n",
    "control_columns += ['t']\n",
    "df.head()"
   ]
  },
  {
   "cell_type": "markdown",
   "id": "fb196166",
   "metadata": {},
   "source": [
    "## EDA"
   ]
  },
  {
   "cell_type": "code",
   "execution_count": 11,
   "id": "0745815d",
   "metadata": {},
   "outputs": [
    {
     "name": "stdout",
     "output_type": "stream",
     "text": [
      "<class 'pandas.core.frame.DataFrame'>\n",
      "DatetimeIndex: 1041 entries, 2022-01-01 to 2024-11-06\n",
      "Data columns (total 7 columns):\n",
      " #   Column             Non-Null Count  Dtype  \n",
      "---  ------             --------------  -----  \n",
      " 0   holiday_signal     1041 non-null   float64\n",
      " 1   competitor_offers  1041 non-null   float64\n",
      " 2   x1                 1041 non-null   float64\n",
      " 3   x2                 1041 non-null   float64\n",
      " 4   market_growth      1041 non-null   float64\n",
      " 5   y                  1041 non-null   float64\n",
      " 6   t                  1041 non-null   int64  \n",
      "dtypes: float64(6), int64(1)\n",
      "memory usage: 65.1 KB\n"
     ]
    }
   ],
   "source": [
    "df.info()"
   ]
  },
  {
   "cell_type": "code",
   "execution_count": 12,
   "id": "0e02a66b",
   "metadata": {},
   "outputs": [
    {
     "data": {
      "image/png": "[encoded data removed]",
      "text/plain": [
       "<Figure size 640x480 with 1 Axes>"
      ]
     },
     "metadata": {},
     "output_type": "display_data"
    },
    {
     "data": {
      "image/png": "[encoded data removed]",
      "text/plain": [
       "<Figure size 640x480 with 1 Axes>"
      ]
     },
     "metadata": {},
     "output_type": "display_data"
    },
    {
     "data": {
      "image/png": "[encoded data removed]",
      "text/plain": [
       "<Figure size 640x480 with 1 Axes>"
      ]
     },
     "metadata": {},
     "output_type": "display_data"
    }
   ],
   "source": [
    "df[['y']].plot();\n",
    "df[channel_columns].plot();\n",
    "df[control_columns].plot();"
   ]
  },
  {
   "cell_type": "code",
   "execution_count": 13,
   "id": "7835a6d1",
   "metadata": {},
   "outputs": [
    {
     "data": {
      "image/png": "[encoded data removed]",
      "text/plain": [
       "<Figure size 1600x600 with 2 Axes>"
      ]
     },
     "metadata": {},
     "output_type": "display_data"
    }
   ],
   "source": [
    "fig, ax = plt.subplots(figsize=(16, 6))\n",
    "sns.heatmap(df[channel_columns+['y']].corr(), annot=True, ax=ax);"
   ]
  },
  {
   "cell_type": "code",
   "execution_count": 14,
   "id": "0d373ca1",
   "metadata": {},
   "outputs": [
    {
     "data": {
      "image/png": "[encoded data removed]",
      "text/plain": [
       "<Figure size 1600x600 with 2 Axes>"
      ]
     },
     "metadata": {},
     "output_type": "display_data"
    }
   ],
   "source": [
    "fig, ax = plt.subplots(figsize=(16, 6))\n",
    "sns.heatmap(df[control_columns+['y']].corr(), annot=True, ax=ax);"
   ]
  },
  {
   "cell_type": "markdown",
   "id": "d96e4bc1",
   "metadata": {},
   "source": [
    "## Test Split"
   ]
  },
  {
   "cell_type": "code",
   "execution_count": 15,
   "id": "70360b6f",
   "metadata": {},
   "outputs": [
    {
     "data": {
      "image/png": "[encoded data removed]",
      "text/latex": [
       "$\\displaystyle 312$"
      ],
      "text/plain": [
       "312"
      ]
     },
     "execution_count": 15,
     "metadata": {},
     "output_type": "execute_result"
    }
   ],
   "source": [
    "split_n = int(df.shape[0] * 0.3)\n",
    "split_n -= split_n % 3\n",
    "split_n"
   ]
  },
  {
   "cell_type": "code",
   "execution_count": 16,
   "id": "c7a5674d",
   "metadata": {},
   "outputs": [],
   "source": [
    "df_train = df.iloc[:-split_n]\n",
    "df_test = df.iloc[-split_n:]"
   ]
  },
  {
   "cell_type": "code",
   "execution_count": 17,
   "id": "c9e626b2",
   "metadata": {},
   "outputs": [],
   "source": [
    "X_train = df_train.drop('y', axis=1)\n",
    "y_train = df_train['y']\n",
    "\n",
    "X_test = df_test.drop('y', axis=1)\n",
    "y_test = df_test['y']"
   ]
  },
  {
   "cell_type": "markdown",
   "id": "38dde895",
   "metadata": {},
   "source": [
    "# Model"
   ]
  },
  {
   "cell_type": "markdown",
   "id": "21f98323",
   "metadata": {},
   "source": [
    "## Scale"
   ]
  },
  {
   "cell_type": "code",
   "execution_count": 18,
   "id": "e335fac4",
   "metadata": {},
   "outputs": [],
   "source": [
    "scaler_X = MaxAbsScaler().fit(X_train)\n",
    "scaler_y = MaxAbsScaler().fit(y_train.values.reshape(-1, 1))"
   ]
  },
  {
   "cell_type": "markdown",
   "id": "ac9df898",
   "metadata": {},
   "source": [
    "## Constrained Regression"
   ]
  },
  {
   "cell_type": "markdown",
   "id": "c3cb5a54",
   "metadata": {},
   "source": [
    "### CROMP"
   ]
  },
  {
   "cell_type": "markdown",
   "id": "fdb342be",
   "metadata": {},
   "source": [
    "#### Defaults"
   ]
  },
  {
   "cell_type": "code",
   "execution_count": 19,
   "id": "7727d334",
   "metadata": {},
   "outputs": [],
   "source": [
    "intercept = True\n",
    "do_scaling = True"
   ]
  },
  {
   "cell_type": "markdown",
   "id": "290846ea",
   "metadata": {},
   "source": [
    "#### Constraints"
   ]
  },
  {
   "cell_type": "code",
   "execution_count": 20,
   "id": "72601be9",
   "metadata": {},
   "outputs": [],
   "source": [
    "lb = []\n",
    "ub = []\n",
    "if do_scaling:\n",
    "    if intercept:\n",
    "        lb = [0]\n",
    "        ub = [1]\n",
    "        \n",
    "    for col in X_train.columns:\n",
    "        if col in control_columns:\n",
    "            lb += [-1]\n",
    "            ub += [1]\n",
    "        else:\n",
    "            lb += [0]\n",
    "            ub += [1]\n",
    "else:\n",
    "    if intercept:\n",
    "        lb = [0]\n",
    "        ub = [np.Inf]\n",
    "        \n",
    "    for col in X_train.columns:\n",
    "        if col in channel_columns:\n",
    "            lb += [0]\n",
    "            ub += [np.Inf]\n",
    "        else:\n",
    "            lb += [-np.Inf]\n",
    "            ub += [np.Inf]"
   ]
  },
  {
   "cell_type": "markdown",
   "id": "d0f8a136",
   "metadata": {},
   "source": [
    "#### Fit"
   ]
  },
  {
   "cell_type": "code",
   "execution_count": 21,
   "id": "1d118649",
   "metadata": {},
   "outputs": [],
   "source": [
    "X_train_scaled, y_train_scaled = get_scaled_data(do_scaling, scaler_X, scaler_y, X_train, y_train)\n",
    "df_train_scaled = X_train_scaled.copy()\n",
    "df_train_scaled['y'] = y_train_scaled"
   ]
  },
  {
   "cell_type": "code",
   "execution_count": 22,
   "id": "4f682784",
   "metadata": {},
   "outputs": [
    {
     "name": "stdout",
     "output_type": "stream",
     "text": [
      "True\n"
     ]
    }
   ],
   "source": [
    "model_regression = CROMPTrain()\n",
    "ret = model_regression.config_constraints(feats_in_asc_order=[],\n",
    "                                          feats_in_no_order=list(X_train_scaled.columns), \n",
    "                                          lb=lb, \n",
    "                                          ub=ub, \n",
    "                                          no_intercept=not(intercept))\n",
    "print(ret)"
   ]
  },
  {
   "cell_type": "code",
   "execution_count": 23,
   "id": "c53acadb",
   "metadata": {},
   "outputs": [
    {
     "name": "stdout",
     "output_type": "stream",
     "text": [
      "True\n",
      "\n",
      "Predicted scaled intercept from CROMP: 0.3987486621291793\n",
      "Predicted scaled coefficients from CROMP: [ 1.27590407e-01  2.91086076e-11  4.23298065e-12  4.95360819e-01\n",
      "  5.84171371e-10 -1.76165564e-02]\n"
     ]
    }
   ],
   "source": [
    "if ret == True:\n",
    "    ret, model_regression = model_regression.train(df_train_scaled, 'y')\n",
    "    print(ret)\n",
    "\n",
    "if ret == True:\n",
    "    if intercept:\n",
    "        print(\"\\nPredicted scaled intercept from CROMP:\", model_regression['coeffs'][0])\n",
    "    print(\"Predicted scaled coefficients from CROMP:\", model_regression['coeffs'][1:])"
   ]
  },
  {
   "cell_type": "markdown",
   "id": "5f77f50a",
   "metadata": {},
   "source": [
    "#### Validate"
   ]
  },
  {
   "cell_type": "code",
   "execution_count": 24,
   "id": "dd947ed7",
   "metadata": {},
   "outputs": [
    {
     "data": {
      "text/html": [
       "<div>\n",
       "<style scoped>\n",
       "    .dataframe tbody tr th:only-of-type {\n",
       "        vertical-align: middle;\n",
       "    }\n",
       "\n",
       "    .dataframe tbody tr th {\n",
       "        vertical-align: top;\n",
       "    }\n",
       "\n",
       "    .dataframe thead th {\n",
       "        text-align: right;\n",
       "    }\n",
       "</style>\n",
       "<table border=\"1\" class=\"dataframe\">\n",
       "  <thead>\n",
       "    <tr style=\"text-align: right;\">\n",
       "      <th></th>\n",
       "      <th>holiday_signal</th>\n",
       "      <th>competitor_offers</th>\n",
       "      <th>x1</th>\n",
       "      <th>x2</th>\n",
       "      <th>market_growth</th>\n",
       "      <th>t</th>\n",
       "    </tr>\n",
       "    <tr>\n",
       "      <th>date</th>\n",
       "      <th></th>\n",
       "      <th></th>\n",
       "      <th></th>\n",
       "      <th></th>\n",
       "      <th></th>\n",
       "      <th></th>\n",
       "    </tr>\n",
       "  </thead>\n",
       "  <tbody>\n",
       "    <tr>\n",
       "      <th>2023-12-31</th>\n",
       "      <td>0.961558</td>\n",
       "      <td>0.884550</td>\n",
       "      <td>0.838896</td>\n",
       "      <td>0.884807</td>\n",
       "      <td>1.000435</td>\n",
       "      <td>1.001374</td>\n",
       "    </tr>\n",
       "    <tr>\n",
       "      <th>2024-01-01</th>\n",
       "      <td>0.950089</td>\n",
       "      <td>0.883592</td>\n",
       "      <td>0.851774</td>\n",
       "      <td>0.887926</td>\n",
       "      <td>1.000869</td>\n",
       "      <td>1.002747</td>\n",
       "    </tr>\n",
       "    <tr>\n",
       "      <th>2024-01-02</th>\n",
       "      <td>0.937255</td>\n",
       "      <td>0.882631</td>\n",
       "      <td>0.795126</td>\n",
       "      <td>0.824826</td>\n",
       "      <td>1.001304</td>\n",
       "      <td>1.004121</td>\n",
       "    </tr>\n",
       "    <tr>\n",
       "      <th>2024-01-03</th>\n",
       "      <td>0.923116</td>\n",
       "      <td>0.881670</td>\n",
       "      <td>0.824977</td>\n",
       "      <td>0.842218</td>\n",
       "      <td>1.001738</td>\n",
       "      <td>1.005495</td>\n",
       "    </tr>\n",
       "    <tr>\n",
       "      <th>2024-01-04</th>\n",
       "      <td>0.907738</td>\n",
       "      <td>0.880706</td>\n",
       "      <td>0.799694</td>\n",
       "      <td>0.812000</td>\n",
       "      <td>1.002171</td>\n",
       "      <td>1.006868</td>\n",
       "    </tr>\n",
       "  </tbody>\n",
       "</table>\n",
       "</div>"
      ],
      "text/plain": [
       "            holiday_signal  competitor_offers        x1        x2  \\\n",
       "date                                                                \n",
       "2023-12-31        0.961558           0.884550  0.838896  0.884807   \n",
       "2024-01-01        0.950089           0.883592  0.851774  0.887926   \n",
       "2024-01-02        0.937255           0.882631  0.795126  0.824826   \n",
       "2024-01-03        0.923116           0.881670  0.824977  0.842218   \n",
       "2024-01-04        0.907738           0.880706  0.799694  0.812000   \n",
       "\n",
       "            market_growth         t  \n",
       "date                                 \n",
       "2023-12-31       1.000435  1.001374  \n",
       "2024-01-01       1.000869  1.002747  \n",
       "2024-01-02       1.001304  1.004121  \n",
       "2024-01-03       1.001738  1.005495  \n",
       "2024-01-04       1.002171  1.006868  "
      ]
     },
     "execution_count": 24,
     "metadata": {},
     "output_type": "execute_result"
    }
   ],
   "source": [
    "X_test_scaled, _ = get_scaled_data(do_scaling, scaler_X, scaler_y, X_test)\n",
    "X_test_scaled.head()"
   ]
  },
  {
   "cell_type": "code",
   "execution_count": 25,
   "id": "113c0545",
   "metadata": {},
   "outputs": [],
   "source": [
    "model_regression = CROMPPredict(model_regression)"
   ]
  },
  {
   "cell_type": "code",
   "execution_count": 26,
   "id": "5cbfece4",
   "metadata": {},
   "outputs": [
    {
     "name": "stdout",
     "output_type": "stream",
     "text": [
      "MAPE from CROMP: 0.08816960159424275\n",
      "date\n",
      "2023-12-31    13.533402\n",
      "2024-01-01    13.534224\n",
      "2024-01-02    13.061339\n",
      "2024-01-03    13.158837\n",
      "2024-01-04    12.915269\n",
      "dtype: float64\n"
     ]
    }
   ],
   "source": [
    "if ret == True:\n",
    "    result_scaled = model_regression.predict(X_test_scaled)\n",
    "    if do_scaling:\n",
    "        result = pd.Series(data=scaler_y.inverse_transform(result_scaled.values.reshape(-1, 1)).flatten(), \n",
    "                           index=X_test.index)\n",
    "    else:\n",
    "        result = result_scaled\n",
    "    print(\"MAPE from CROMP:\", _mape(result, y_test))\n",
    "    print(result.head())"
   ]
  },
  {
   "cell_type": "markdown",
   "id": "a6e5fab1",
   "metadata": {},
   "source": [
    "#### Cleanup"
   ]
  },
  {
   "cell_type": "code",
   "execution_count": 27,
   "id": "100bafa2",
   "metadata": {},
   "outputs": [],
   "source": [
    "del df_train_scaled\n",
    "gc.collect();"
   ]
  },
  {
   "cell_type": "markdown",
   "id": "f4976caa",
   "metadata": {},
   "source": [
    "### CVXPY"
   ]
  },
  {
   "cell_type": "markdown",
   "id": "e0511ff3",
   "metadata": {},
   "source": [
    "#### Defaults"
   ]
  },
  {
   "cell_type": "code",
   "execution_count": 28,
   "id": "be103271",
   "metadata": {},
   "outputs": [],
   "source": [
    "intercept = True\n",
    "do_scaling = True"
   ]
  },
  {
   "cell_type": "code",
   "execution_count": 29,
   "id": "1aa37eda",
   "metadata": {},
   "outputs": [],
   "source": [
    "X_train_scaled, y_train_scaled = get_scaled_data(do_scaling, scaler_X, scaler_y, X_train, y_train)"
   ]
  },
  {
   "cell_type": "code",
   "execution_count": 30,
   "id": "533994de",
   "metadata": {},
   "outputs": [],
   "source": [
    "if intercept:\n",
    "    X_train_scaled['intercept'] = 1"
   ]
  },
  {
   "cell_type": "code",
   "execution_count": 31,
   "id": "357f37df",
   "metadata": {},
   "outputs": [],
   "source": [
    "n_coef = X_train_scaled.shape[1]\n",
    "coef = cp.Variable(n_coef)"
   ]
  },
  {
   "cell_type": "markdown",
   "id": "3eb60aa7",
   "metadata": {},
   "source": [
    "#### Constraints"
   ]
  },
  {
   "cell_type": "code",
   "execution_count": 32,
   "id": "7fcb9e8f",
   "metadata": {},
   "outputs": [],
   "source": [
    "reg_alpha = 1.0\n",
    "ridge_penalty = cp.norm(coef, 2)"
   ]
  },
  {
   "cell_type": "code",
   "execution_count": 33,
   "id": "b0239fdc",
   "metadata": {},
   "outputs": [],
   "source": [
    "lb = []\n",
    "ub = []\n",
    "if do_scaling:\n",
    "    for col in X_train.columns:\n",
    "        if col in control_columns:\n",
    "            lb += [-1]\n",
    "            ub += [1]\n",
    "        else:\n",
    "            lb += [0]\n",
    "            ub += [1]\n",
    "            \n",
    "    if intercept:\n",
    "        lb += [0]\n",
    "        ub += [1]\n",
    "else:   \n",
    "    for col in X_train.columns:\n",
    "        if col in channel_columns:\n",
    "            lb += [0]\n",
    "            ub += [None]\n",
    "        else:\n",
    "            lb += [None]\n",
    "            ub += [None]\n",
    "    \n",
    "    if intercept:\n",
    "        lb += [0]\n",
    "        ub += [None]"
   ]
  },
  {
   "cell_type": "code",
   "execution_count": 34,
   "id": "dd193878",
   "metadata": {},
   "outputs": [
    {
     "data": {
      "text/plain": [
       "[Inequality(Constant(CONSTANT, NONPOSITIVE, ())),\n",
       " Inequality(Constant(CONSTANT, ZERO, ())),\n",
       " Inequality(Constant(CONSTANT, ZERO, ())),\n",
       " Inequality(Constant(CONSTANT, ZERO, ())),\n",
       " Inequality(Constant(CONSTANT, ZERO, ())),\n",
       " Inequality(Constant(CONSTANT, NONPOSITIVE, ())),\n",
       " Inequality(Constant(CONSTANT, ZERO, ())),\n",
       " Inequality(Expression(AFFINE, UNKNOWN, ())),\n",
       " Inequality(Expression(AFFINE, UNKNOWN, ())),\n",
       " Inequality(Expression(AFFINE, UNKNOWN, ())),\n",
       " Inequality(Expression(AFFINE, UNKNOWN, ())),\n",
       " Inequality(Expression(AFFINE, UNKNOWN, ())),\n",
       " Inequality(Expression(AFFINE, UNKNOWN, ())),\n",
       " Inequality(Expression(AFFINE, UNKNOWN, ()))]"
      ]
     },
     "execution_count": 34,
     "metadata": {},
     "output_type": "execute_result"
    }
   ],
   "source": [
    "constraints = ([coef[i] >= lb[i] for i in range(n_coef) if lb[i] is not None] +\n",
    "               [coef[i] <= ub[i] for i in range(n_coef) if ub[i] is not None])\n",
    "constraints"
   ]
  },
  {
   "cell_type": "markdown",
   "id": "34c5a270",
   "metadata": {},
   "source": [
    "#### Fit"
   ]
  },
  {
   "cell_type": "code",
   "execution_count": 35,
   "id": "1ca19f66",
   "metadata": {},
   "outputs": [
    {
     "name": "stdout",
     "output_type": "stream",
     "text": [
      "optimal\n"
     ]
    }
   ],
   "source": [
    "objective = cp.Minimize(cp.sum_squares(X_train_scaled.values @ coef - y_train_scaled.values) + reg_alpha * ridge_penalty)\n",
    "problem = cp.Problem(objective, constraints)\n",
    "problem.solve()\n",
    "print(problem.status)"
   ]
  },
  {
   "cell_type": "code",
   "execution_count": 36,
   "id": "88ad36d3",
   "metadata": {},
   "outputs": [
    {
     "name": "stdout",
     "output_type": "stream",
     "text": [
      "\n",
      "Predicted scaled intercept from CVXPY: 0.12837860877091833\n",
      "Predicted scaled coefficients from CVXPY: [ 1.85202559e-10  1.92067069e-01  2.83976403e-01  7.84848602e-02\n",
      " -5.91032475e-02  3.76760882e-01]\n"
     ]
    }
   ],
   "source": [
    "if problem.status == 'optimal':\n",
    "    if intercept:\n",
    "        print(\"\\nPredicted scaled intercept from CVXPY:\", coef.value[0])\n",
    "        print(\"Predicted scaled coefficients from CVXPY:\", coef.value[1:])\n",
    "    else:\n",
    "        print(\"Predicted scaled coefficients from CVXPY:\", coef.value)"
   ]
  },
  {
   "cell_type": "markdown",
   "id": "f4e5ef9e",
   "metadata": {},
   "source": [
    "#### Validate"
   ]
  },
  {
   "cell_type": "code",
   "execution_count": 37,
   "id": "880aeb13",
   "metadata": {},
   "outputs": [
    {
     "data": {
      "text/html": [
       "<div>\n",
       "<style scoped>\n",
       "    .dataframe tbody tr th:only-of-type {\n",
       "        vertical-align: middle;\n",
       "    }\n",
       "\n",
       "    .dataframe tbody tr th {\n",
       "        vertical-align: top;\n",
       "    }\n",
       "\n",
       "    .dataframe thead th {\n",
       "        text-align: right;\n",
       "    }\n",
       "</style>\n",
       "<table border=\"1\" class=\"dataframe\">\n",
       "  <thead>\n",
       "    <tr style=\"text-align: right;\">\n",
       "      <th></th>\n",
       "      <th>holiday_signal</th>\n",
       "      <th>competitor_offers</th>\n",
       "      <th>x1</th>\n",
       "      <th>x2</th>\n",
       "      <th>market_growth</th>\n",
       "      <th>t</th>\n",
       "      <th>intercept</th>\n",
       "    </tr>\n",
       "    <tr>\n",
       "      <th>date</th>\n",
       "      <th></th>\n",
       "      <th></th>\n",
       "      <th></th>\n",
       "      <th></th>\n",
       "      <th></th>\n",
       "      <th></th>\n",
       "      <th></th>\n",
       "    </tr>\n",
       "  </thead>\n",
       "  <tbody>\n",
       "    <tr>\n",
       "      <th>2023-12-31</th>\n",
       "      <td>0.961558</td>\n",
       "      <td>0.884550</td>\n",
       "      <td>0.838896</td>\n",
       "      <td>0.884807</td>\n",
       "      <td>1.000435</td>\n",
       "      <td>1.001374</td>\n",
       "      <td>1</td>\n",
       "    </tr>\n",
       "    <tr>\n",
       "      <th>2024-01-01</th>\n",
       "      <td>0.950089</td>\n",
       "      <td>0.883592</td>\n",
       "      <td>0.851774</td>\n",
       "      <td>0.887926</td>\n",
       "      <td>1.000869</td>\n",
       "      <td>1.002747</td>\n",
       "      <td>1</td>\n",
       "    </tr>\n",
       "    <tr>\n",
       "      <th>2024-01-02</th>\n",
       "      <td>0.937255</td>\n",
       "      <td>0.882631</td>\n",
       "      <td>0.795126</td>\n",
       "      <td>0.824826</td>\n",
       "      <td>1.001304</td>\n",
       "      <td>1.004121</td>\n",
       "      <td>1</td>\n",
       "    </tr>\n",
       "    <tr>\n",
       "      <th>2024-01-03</th>\n",
       "      <td>0.923116</td>\n",
       "      <td>0.881670</td>\n",
       "      <td>0.824977</td>\n",
       "      <td>0.842218</td>\n",
       "      <td>1.001738</td>\n",
       "      <td>1.005495</td>\n",
       "      <td>1</td>\n",
       "    </tr>\n",
       "    <tr>\n",
       "      <th>2024-01-04</th>\n",
       "      <td>0.907738</td>\n",
       "      <td>0.880706</td>\n",
       "      <td>0.799694</td>\n",
       "      <td>0.812000</td>\n",
       "      <td>1.002171</td>\n",
       "      <td>1.006868</td>\n",
       "      <td>1</td>\n",
       "    </tr>\n",
       "  </tbody>\n",
       "</table>\n",
       "</div>"
      ],
      "text/plain": [
       "            holiday_signal  competitor_offers        x1        x2  \\\n",
       "date                                                                \n",
       "2023-12-31        0.961558           0.884550  0.838896  0.884807   \n",
       "2024-01-01        0.950089           0.883592  0.851774  0.887926   \n",
       "2024-01-02        0.937255           0.882631  0.795126  0.824826   \n",
       "2024-01-03        0.923116           0.881670  0.824977  0.842218   \n",
       "2024-01-04        0.907738           0.880706  0.799694  0.812000   \n",
       "\n",
       "            market_growth         t  intercept  \n",
       "date                                            \n",
       "2023-12-31       1.000435  1.001374          1  \n",
       "2024-01-01       1.000869  1.002747          1  \n",
       "2024-01-02       1.001304  1.004121          1  \n",
       "2024-01-03       1.001738  1.005495          1  \n",
       "2024-01-04       1.002171  1.006868          1  "
      ]
     },
     "execution_count": 37,
     "metadata": {},
     "output_type": "execute_result"
    }
   ],
   "source": [
    "X_test_scaled, _ = get_scaled_data(do_scaling, scaler_X, scaler_y, X_test)\n",
    "if intercept:\n",
    "    X_test_scaled['intercept'] = 1\n",
    "X_test_scaled.head()"
   ]
  },
  {
   "cell_type": "code",
   "execution_count": 38,
   "id": "34c277ab",
   "metadata": {},
   "outputs": [
    {
     "name": "stdout",
     "output_type": "stream",
     "text": [
      "MAPE from CVXPY: 0.10298390304583539\n",
      "date\n",
      "2023-12-31    13.387385\n",
      "2024-01-01    13.413808\n",
      "2024-01-02    12.975760\n",
      "2024-01-03    13.102316\n",
      "2024-01-04    12.880249\n",
      "dtype: float64\n"
     ]
    }
   ],
   "source": [
    "if problem.status == 'optimal':\n",
    "    result_scaled = X_test_scaled.values @ coef.value\n",
    "    if do_scaling:\n",
    "        result = pd.Series(data=scaler_y.inverse_transform(result_scaled.reshape(-1, 1)).flatten(), index=X_test.index)\n",
    "    else:\n",
    "        result = pd.Series(data=result_scaled, index=X_test.index)\n",
    "    print(\"MAPE from CVXPY:\", _mape(result, y_test))\n",
    "    print(result.head())"
   ]
  },
  {
   "cell_type": "markdown",
   "id": "b5b818de",
   "metadata": {},
   "source": [
    "#### Cleanup"
   ]
  },
  {
   "cell_type": "code",
   "execution_count": 39,
   "id": "a0fac26a",
   "metadata": {},
   "outputs": [],
   "source": [
    "if intercept:\n",
    "    X_train_scaled.drop('intercept', axis=1, inplace=True)\n",
    "    X_test_scaled.drop('intercept', axis=1, inplace=True)"
   ]
  },
  {
   "cell_type": "markdown",
   "id": "15387d40",
   "metadata": {},
   "source": [
    "## Bayesian"
   ]
  },
  {
   "cell_type": "code",
   "execution_count": 40,
   "id": "d8898e14",
   "metadata": {},
   "outputs": [],
   "source": [
    "#?MMM"
   ]
  },
  {
   "cell_type": "markdown",
   "id": "91c474e9",
   "metadata": {},
   "source": [
    "### Defaults"
   ]
  },
  {
   "cell_type": "code",
   "execution_count": 41,
   "id": "0dce4b18",
   "metadata": {},
   "outputs": [],
   "source": [
    "channel_columns = channel_columns\n",
    "control_columns = control_columns\n",
    "\n",
    "adstock = GeometricAdstock(l_max=12)\n",
    "saturation = LogisticSaturation()\n",
    "\n",
    "fourier_modes = 4\n",
    "time_varying_intercept = False\n",
    "time_varying_media = True\n",
    "\n",
    "do_scaling = False\n",
    "do_causal = do_causal\n",
    "\n",
    "sampler_config = {'chains': 4, 'draws': 2_000, 'tune': 1_500, 'progressbar': True,\n",
    "                  'cores': 4, \n",
    "                  'nuts_sampler': 'numpyro',\n",
    "                  'target_accept': 0.9, \n",
    "                  'random_seed':1}"
   ]
  },
  {
   "cell_type": "code",
   "execution_count": 42,
   "id": "a7f02f29",
   "metadata": {},
   "outputs": [],
   "source": [
    "if do_causal:\n",
    "    causal_dag = causal_dag\n",
    "    causal_config = {'outcome_node': 'y', 'dag': causal_dag}\n",
    "    \n",
    "    saturation = MichaelisMentenSaturation()\n",
    "    time_varying_intercept = True\n",
    "else:\n",
    "    causal_config = {}"
   ]
  },
  {
   "cell_type": "code",
   "execution_count": 43,
   "id": "416f9a34",
   "metadata": {},
   "outputs": [],
   "source": [
    "X_train_scaled, y_train_scaled = get_scaled_data(do_scaling, scaler_X, scaler_y, X_train, y_train, control_columns)\n",
    "X_train_scaled['date_str'] = list(X_train_scaled.index.strftime(\"%Y-%m-%d\"))\n",
    "date_column = 'date_str'"
   ]
  },
  {
   "cell_type": "code",
   "execution_count": 44,
   "id": "b20699a6",
   "metadata": {},
   "outputs": [
    {
     "name": "stderr",
     "output_type": "stream",
     "text": [
      "C:\\Users\\kbope\\anaconda3\\envs\\mmm\\Lib\\site-packages\\pydantic\\_internal\\_validate_call.py:111: UserWarning: No treatment nodes provided, using channel columns as treatment nodes.\n",
      "  res = self.__pydantic_validator__.validate_python(pydantic_core.ArgsKwargs(args, kwargs))\n",
      "C:\\Users\\kbope\\anaconda3\\envs\\mmm\\Lib\\site-packages\\dowhy\\causal_model.py:583: UserWarning: 6 variables are assumed unobserved because they are not in the dataset. Configure the logging level to `logging.WARNING` or higher for additional details.\n",
      "  warnings.warn(\n",
      "C:\\Users\\kbope\\anaconda3\\envs\\mmm\\Lib\\site-packages\\pymc_marketing\\mmm\\mmm.py:221: UserWarning: Columns {'t'} are not in the adjustment set. Controls are being modified.\n",
      "  self.control_columns = self.causal_graphical_model.compute_adjustment_sets(\n",
      "C:\\Users\\kbope\\anaconda3\\envs\\mmm\\Lib\\site-packages\\pymc_marketing\\mmm\\mmm.py:221: UserWarning: Column competitor_offers in adjustment set not found in data.\n",
      "                    Not controlling for this may induce bias in treatment effect estimates.\n",
      "  self.control_columns = self.causal_graphical_model.compute_adjustment_sets(\n",
      "C:\\Users\\kbope\\anaconda3\\envs\\mmm\\Lib\\site-packages\\pydantic\\_internal\\_validate_call.py:111: UserWarning: Yearly seasonality excluded as it's not required for adjustment.\n",
      "  res = self.__pydantic_validator__.validate_python(pydantic_core.ArgsKwargs(args, kwargs))\n"
     ]
    },
    {
     "data": {
      "text/plain": [
       "{'intercept': Prior(\"Normal\", mu=0, sigma=2),\n",
       " 'likelihood': Prior(\"Normal\", sigma=Prior(\"HalfNormal\", sigma=2)),\n",
       " 'gamma_control': Prior(\"Normal\", mu=0, sigma=2, dims=\"control\"),\n",
       " 'gamma_fourier': Prior(\"Laplace\", mu=0, b=1, dims=\"fourier_mode\"),\n",
       " 'intercept_tvp_config': HSGPKwargs(m=200, L=None, eta_lam=1.0, ls_mu=5.0, ls_sigma=10.0, cov_func=None),\n",
       " 'media_tvp_config': HSGPKwargs(m=200, L=None, eta_lam=1.0, ls_mu=5.0, ls_sigma=10.0, cov_func=None),\n",
       " 'adstock_alpha': Prior(\"Beta\", alpha=1, beta=3, dims=\"channel\"),\n",
       " 'saturation_alpha': Prior(\"Gamma\", mu=2, sigma=1, dims=\"channel\"),\n",
       " 'saturation_lam': Prior(\"HalfNormal\", sigma=1, dims=\"channel\")}"
      ]
     },
     "execution_count": 44,
     "metadata": {},
     "output_type": "execute_result"
    }
   ],
   "source": [
    "model_bayesian = MMM(date_column=date_column, \n",
    "                     channel_columns=channel_columns, \n",
    "                     control_columns=control_columns,\n",
    "                     adstock=adstock, \n",
    "                     adstock_first=True,\n",
    "                     saturation=saturation, \n",
    "                     yearly_seasonality=fourier_modes,\n",
    "                     time_varying_intercept=time_varying_intercept, \n",
    "                     time_varying_media=time_varying_media, \n",
    "                     **causal_config)\n",
    "model_bayesian.model_config"
   ]
  },
  {
   "cell_type": "code",
   "execution_count": 45,
   "id": "f90c255b",
   "metadata": {},
   "outputs": [
    {
     "name": "stdout",
     "output_type": "stream",
     "text": [
      "['competitor_offers', 'holiday_signal']\n",
      "['holiday_signal', 'x1', 'x2']\n"
     ]
    }
   ],
   "source": [
    "if do_causal:\n",
    "    print(model_bayesian.causal_graphical_model.adjustment_set)\n",
    "    print(model_bayesian.causal_graphical_model.minimal_adjustment_set)"
   ]
  },
  {
   "cell_type": "markdown",
   "id": "d4652112",
   "metadata": {},
   "source": [
    "### Priors"
   ]
  },
  {
   "cell_type": "code",
   "execution_count": 46,
   "id": "0bd99ffe",
   "metadata": {},
   "outputs": [],
   "source": [
    "#model_bayesian.model_config['intercept'] = Prior('Normal', mu=0.5, sigma=1)\n",
    "model_bayesian.model_config['intercept'] = Prior('HalfNormal', sigma=0.5)"
   ]
  },
  {
   "cell_type": "code",
   "execution_count": 47,
   "id": "2aec449a",
   "metadata": {},
   "outputs": [],
   "source": [
    "model_bayesian.model_config['gamma_fourier'] = Prior('Laplace', mu=0, b=1, dims='fourier_mode')\n",
    "model_bayesian.model_config['gamma_control'] = Prior('Normal', mu=0, sigma=1, dims='control')"
   ]
  },
  {
   "cell_type": "code",
   "execution_count": 48,
   "id": "9746ad79",
   "metadata": {},
   "outputs": [],
   "source": [
    "if do_causal:\n",
    "    model_bayesian.model_config['intercept_tvp_config'].ls_mu = 100\n",
    "else:\n",
    "    total_spend_per_channel = X_train_scaled[channel_columns].sum(axis=0)\n",
    "    channel_spend_share = total_spend_per_channel / total_spend_per_channel.sum()\n",
    "    prior_channel_sigma = list(channel_spend_share.to_numpy())\n",
    "    print(prior_channel_sigma)\n",
    "    model_bayesian.model_config['saturation_beta'] = Prior('TruncatedNormal', mu=[0.01, 0.1, 0.5], lower=0, upper=0.8, \n",
    "                                                           sigma=prior_channel_sigma, dims='channel')"
   ]
  },
  {
   "cell_type": "code",
   "execution_count": 49,
   "id": "0f311e4e",
   "metadata": {},
   "outputs": [
    {
     "data": {
      "text/plain": [
       "{'intercept': Prior(\"HalfNormal\", sigma=0.5),\n",
       " 'likelihood': Prior(\"Normal\", sigma=Prior(\"HalfNormal\", sigma=2)),\n",
       " 'gamma_control': Prior(\"Normal\", mu=0, sigma=1, dims=\"control\"),\n",
       " 'gamma_fourier': Prior(\"Laplace\", mu=0, b=1, dims=\"fourier_mode\"),\n",
       " 'intercept_tvp_config': HSGPKwargs(m=200, L=None, eta_lam=1.0, ls_mu=100, ls_sigma=10.0, cov_func=None),\n",
       " 'media_tvp_config': HSGPKwargs(m=200, L=None, eta_lam=1.0, ls_mu=5.0, ls_sigma=10.0, cov_func=None),\n",
       " 'adstock_alpha': Prior(\"Beta\", alpha=1, beta=3, dims=\"channel\"),\n",
       " 'saturation_alpha': Prior(\"Gamma\", mu=2, sigma=1, dims=\"channel\"),\n",
       " 'saturation_lam': Prior(\"HalfNormal\", sigma=1, dims=\"channel\")}"
      ]
     },
     "execution_count": 49,
     "metadata": {},
     "output_type": "execute_result"
    }
   ],
   "source": [
    "model_bayesian.model_config"
   ]
  },
  {
   "cell_type": "code",
   "execution_count": 50,
   "id": "3eede0e8",
   "metadata": {},
   "outputs": [
    {
     "name": "stderr",
     "output_type": "stream",
     "text": [
      "Sampling: [adstock_alpha, baseline_intercept, gamma_control, intercept_temporal_latent_multiplier_raw_eta, intercept_temporal_latent_multiplier_raw_hsgp_coefs_offset, intercept_temporal_latent_multiplier_raw_ls, media_temporal_latent_multiplier_raw_eta, media_temporal_latent_multiplier_raw_hsgp_coefs_offset, media_temporal_latent_multiplier_raw_ls, saturation_alpha, saturation_lam, y, y_sigma]\n"
     ]
    },
    {
     "data": {
      "text/html": [
       "<div><svg style=\"position: absolute; width: 0; height: 0; overflow: hidden\">\n",
       "<defs>\n",
       "<symbol id=\"icon-database\" viewBox=\"0 0 32 32\">\n",
       "<path d=\"M16 0c-8.837 0-16 2.239-16 5v4c0 2.761 7.163 5 16 5s16-2.239 16-5v-4c0-2.761-7.163-5-16-5z\"></path>\n",
       "<path d=\"M16 17c-8.837 0-16-2.239-16-5v6c0 2.761 7.163 5 16 5s16-2.239 16-5v-6c0 2.761-7.163 5-16 5z\"></path>\n",
       "<path d=\"M16 26c-8.837 0-16-2.239-16-5v6c0 2.761 7.163 5 16 5s16-2.239 16-5v-6c0 2.761-7.163 5-16 5z\"></path>\n",
       "</symbol>\n",
       "<symbol id=\"icon-file-text2\" viewBox=\"0 0 32 32\">\n",
       "<path d=\"M28.681 7.159c-0.694-0.947-1.662-2.053-2.724-3.116s-2.169-2.030-3.116-2.724c-1.612-1.182-2.393-1.319-2.841-1.319h-15.5c-1.378 0-2.5 1.121-2.5 2.5v27c0 1.378 1.122 2.5 2.5 2.5h23c1.378 0 2.5-1.122 2.5-2.5v-19.5c0-0.448-0.137-1.23-1.319-2.841zM24.543 5.457c0.959 0.959 1.712 1.825 2.268 2.543h-4.811v-4.811c0.718 0.556 1.584 1.309 2.543 2.268zM28 29.5c0 0.271-0.229 0.5-0.5 0.5h-23c-0.271 0-0.5-0.229-0.5-0.5v-27c0-0.271 0.229-0.5 0.5-0.5 0 0 15.499-0 15.5 0v7c0 0.552 0.448 1 1 1h7v19.5z\"></path>\n",
       "<path d=\"M23 26h-14c-0.552 0-1-0.448-1-1s0.448-1 1-1h14c0.552 0 1 0.448 1 1s-0.448 1-1 1z\"></path>\n",
       "<path d=\"M23 22h-14c-0.552 0-1-0.448-1-1s0.448-1 1-1h14c0.552 0 1 0.448 1 1s-0.448 1-1 1z\"></path>\n",
       "<path d=\"M23 18h-14c-0.552 0-1-0.448-1-1s0.448-1 1-1h14c0.552 0 1 0.448 1 1s-0.448 1-1 1z\"></path>\n",
       "</symbol>\n",
       "</defs>\n",
       "</svg>\n",
       "<style>/* CSS stylesheet for displaying xarray objects in jupyterlab.\n",
       " *\n",
       " */\n",
       "\n",
       ":root {\n",
       "  --xr-font-color0: var(--jp-content-font-color0, rgba(0, 0, 0, 1));\n",
       "  --xr-font-color2: var(--jp-content-font-color2, rgba(0, 0, 0, 0.54));\n",
       "  --xr-font-color3: var(--jp-content-font-color3, rgba(0, 0, 0, 0.38));\n",
       "  --xr-border-color: var(--jp-border-color2, #e0e0e0);\n",
       "  --xr-disabled-color: var(--jp-layout-color3, #bdbdbd);\n",
       "  --xr-background-color: var(--jp-layout-color0, white);\n",
       "  --xr-background-color-row-even: var(--jp-layout-color1, white);\n",
       "  --xr-background-color-row-odd: var(--jp-layout-color2, #eeeeee);\n",
       "}\n",
       "\n",
       "html[theme=\"dark\"],\n",
       "html[data-theme=\"dark\"],\n",
       "body[data-theme=\"dark\"],\n",
       "body.vscode-dark {\n",
       "  --xr-font-color0: rgba(255, 255, 255, 1);\n",
       "  --xr-font-color2: rgba(255, 255, 255, 0.54);\n",
       "  --xr-font-color3: rgba(255, 255, 255, 0.38);\n",
       "  --xr-border-color: #1f1f1f;\n",
       "  --xr-disabled-color: #515151;\n",
       "  --xr-background-color: #111111;\n",
       "  --xr-background-color-row-even: #111111;\n",
       "  --xr-background-color-row-odd: #313131;\n",
       "}\n",
       "\n",
       ".xr-wrap {\n",
       "  display: block !important;\n",
       "  min-width: 300px;\n",
       "  max-width: 700px;\n",
       "}\n",
       "\n",
       ".xr-text-repr-fallback {\n",
       "  /* fallback to plain text repr when CSS is not injected (untrusted notebook) */\n",
       "  display: none;\n",
       "}\n",
       "\n",
       ".xr-header {\n",
       "  padding-top: 6px;\n",
       "  padding-bottom: 6px;\n",
       "  margin-bottom: 4px;\n",
       "  border-bottom: solid 1px var(--xr-border-color);\n",
       "}\n",
       "\n",
       ".xr-header > div,\n",
       ".xr-header > ul {\n",
       "  display: inline;\n",
       "  margin-top: 0;\n",
       "  margin-bottom: 0;\n",
       "}\n",
       "\n",
       ".xr-obj-type,\n",
       ".xr-array-name {\n",
       "  margin-left: 2px;\n",
       "  margin-right: 10px;\n",
       "}\n",
       "\n",
       ".xr-obj-type {\n",
       "  color: var(--xr-font-color2);\n",
       "}\n",
       "\n",
       ".xr-sections {\n",
       "  padding-left: 0 !important;\n",
       "  display: grid;\n",
       "  grid-template-columns: 150px auto auto 1fr 0 20px 0 20px;\n",
       "}\n",
       "\n",
       ".xr-section-item {\n",
       "  display: contents;\n",
       "}\n",
       "\n",
       ".xr-section-item input {\n",
       "  display: inline-block;\n",
       "  opacity: 0;\n",
       "  height: 0;\n",
       "}\n",
       "\n",
       ".xr-section-item input + label {\n",
       "  color: var(--xr-disabled-color);\n",
       "}\n",
       "\n",
       ".xr-section-item input:enabled + label {\n",
       "  cursor: pointer;\n",
       "  color: var(--xr-font-color2);\n",
       "}\n",
       "\n",
       ".xr-section-item input:focus + label {\n",
       "  border: 2px solid var(--xr-font-color0);\n",
       "}\n",
       "\n",
       ".xr-section-item input:enabled + label:hover {\n",
       "  color: var(--xr-font-color0);\n",
       "}\n",
       "\n",
       ".xr-section-summary {\n",
       "  grid-column: 1;\n",
       "  color: var(--xr-font-color2);\n",
       "  font-weight: 500;\n",
       "}\n",
       "\n",
       ".xr-section-summary > span {\n",
       "  display: inline-block;\n",
       "  padding-left: 0.5em;\n",
       "}\n",
       "\n",
       ".xr-section-summary-in:disabled + label {\n",
       "  color: var(--xr-font-color2);\n",
       "}\n",
       "\n",
       ".xr-section-summary-in + label:before {\n",
       "  display: inline-block;\n",
       "  content: \"►\";\n",
       "  font-size: 11px;\n",
       "  width: 15px;\n",
       "  text-align: center;\n",
       "}\n",
       "\n",
       ".xr-section-summary-in:disabled + label:before {\n",
       "  color: var(--xr-disabled-color);\n",
       "}\n",
       "\n",
       ".xr-section-summary-in:checked + label:before {\n",
       "  content: \"▼\";\n",
       "}\n",
       "\n",
       ".xr-section-summary-in:checked + label > span {\n",
       "  display: none;\n",
       "}\n",
       "\n",
       ".xr-section-summary,\n",
       ".xr-section-inline-details {\n",
       "  padding-top: 4px;\n",
       "  padding-bottom: 4px;\n",
       "}\n",
       "\n",
       ".xr-section-inline-details {\n",
       "  grid-column: 2 / -1;\n",
       "}\n",
       "\n",
       ".xr-section-details {\n",
       "  display: none;\n",
       "  grid-column: 1 / -1;\n",
       "  margin-bottom: 5px;\n",
       "}\n",
       "\n",
       ".xr-section-summary-in:checked ~ .xr-section-details {\n",
       "  display: contents;\n",
       "}\n",
       "\n",
       ".xr-array-wrap {\n",
       "  grid-column: 1 / -1;\n",
       "  display: grid;\n",
       "  grid-template-columns: 20px auto;\n",
       "}\n",
       "\n",
       ".xr-array-wrap > label {\n",
       "  grid-column: 1;\n",
       "  vertical-align: top;\n",
       "}\n",
       "\n",
       ".xr-preview {\n",
       "  color: var(--xr-font-color3);\n",
       "}\n",
       "\n",
       ".xr-array-preview,\n",
       ".xr-array-data {\n",
       "  padding: 0 5px !important;\n",
       "  grid-column: 2;\n",
       "}\n",
       "\n",
       ".xr-array-data,\n",
       ".xr-array-in:checked ~ .xr-array-preview {\n",
       "  display: none;\n",
       "}\n",
       "\n",
       ".xr-array-in:checked ~ .xr-array-data,\n",
       ".xr-array-preview {\n",
       "  display: inline-block;\n",
       "}\n",
       "\n",
       ".xr-dim-list {\n",
       "  display: inline-block !important;\n",
       "  list-style: none;\n",
       "  padding: 0 !important;\n",
       "  margin: 0;\n",
       "}\n",
       "\n",
       ".xr-dim-list li {\n",
       "  display: inline-block;\n",
       "  padding: 0;\n",
       "  margin: 0;\n",
       "}\n",
       "\n",
       ".xr-dim-list:before {\n",
       "  content: \"(\";\n",
       "}\n",
       "\n",
       ".xr-dim-list:after {\n",
       "  content: \")\";\n",
       "}\n",
       "\n",
       ".xr-dim-list li:not(:last-child):after {\n",
       "  content: \",\";\n",
       "  padding-right: 5px;\n",
       "}\n",
       "\n",
       ".xr-has-index {\n",
       "  font-weight: bold;\n",
       "}\n",
       "\n",
       ".xr-var-list,\n",
       ".xr-var-item {\n",
       "  display: contents;\n",
       "}\n",
       "\n",
       ".xr-var-item > div,\n",
       ".xr-var-item label,\n",
       ".xr-var-item > .xr-var-name span {\n",
       "  background-color: var(--xr-background-color-row-even);\n",
       "  margin-bottom: 0;\n",
       "}\n",
       "\n",
       ".xr-var-item > .xr-var-name:hover span {\n",
       "  padding-right: 5px;\n",
       "}\n",
       "\n",
       ".xr-var-list > li:nth-child(odd) > div,\n",
       ".xr-var-list > li:nth-child(odd) > label,\n",
       ".xr-var-list > li:nth-child(odd) > .xr-var-name span {\n",
       "  background-color: var(--xr-background-color-row-odd);\n",
       "}\n",
       "\n",
       ".xr-var-name {\n",
       "  grid-column: 1;\n",
       "}\n",
       "\n",
       ".xr-var-dims {\n",
       "  grid-column: 2;\n",
       "}\n",
       "\n",
       ".xr-var-dtype {\n",
       "  grid-column: 3;\n",
       "  text-align: right;\n",
       "  color: var(--xr-font-color2);\n",
       "}\n",
       "\n",
       ".xr-var-preview {\n",
       "  grid-column: 4;\n",
       "}\n",
       "\n",
       ".xr-index-preview {\n",
       "  grid-column: 2 / 5;\n",
       "  color: var(--xr-font-color2);\n",
       "}\n",
       "\n",
       ".xr-var-name,\n",
       ".xr-var-dims,\n",
       ".xr-var-dtype,\n",
       ".xr-preview,\n",
       ".xr-attrs dt {\n",
       "  white-space: nowrap;\n",
       "  overflow: hidden;\n",
       "  text-overflow: ellipsis;\n",
       "  padding-right: 10px;\n",
       "}\n",
       "\n",
       ".xr-var-name:hover,\n",
       ".xr-var-dims:hover,\n",
       ".xr-var-dtype:hover,\n",
       ".xr-attrs dt:hover {\n",
       "  overflow: visible;\n",
       "  width: auto;\n",
       "  z-index: 1;\n",
       "}\n",
       "\n",
       ".xr-var-attrs,\n",
       ".xr-var-data,\n",
       ".xr-index-data {\n",
       "  display: none;\n",
       "  background-color: var(--xr-background-color) !important;\n",
       "  padding-bottom: 5px !important;\n",
       "}\n",
       "\n",
       ".xr-var-attrs-in:checked ~ .xr-var-attrs,\n",
       ".xr-var-data-in:checked ~ .xr-var-data,\n",
       ".xr-index-data-in:checked ~ .xr-index-data {\n",
       "  display: block;\n",
       "}\n",
       "\n",
       ".xr-var-data > table {\n",
       "  float: right;\n",
       "}\n",
       "\n",
       ".xr-var-name span,\n",
       ".xr-var-data,\n",
       ".xr-index-name div,\n",
       ".xr-index-data,\n",
       ".xr-attrs {\n",
       "  padding-left: 25px !important;\n",
       "}\n",
       "\n",
       ".xr-attrs,\n",
       ".xr-var-attrs,\n",
       ".xr-var-data,\n",
       ".xr-index-data {\n",
       "  grid-column: 1 / -1;\n",
       "}\n",
       "\n",
       "dl.xr-attrs {\n",
       "  padding: 0;\n",
       "  margin: 0;\n",
       "  display: grid;\n",
       "  grid-template-columns: 125px auto;\n",
       "}\n",
       "\n",
       ".xr-attrs dt,\n",
       ".xr-attrs dd {\n",
       "  padding: 0;\n",
       "  margin: 0;\n",
       "  float: left;\n",
       "  padding-right: 10px;\n",
       "  width: auto;\n",
       "}\n",
       "\n",
       ".xr-attrs dt {\n",
       "  font-weight: normal;\n",
       "  grid-column: 1;\n",
       "}\n",
       "\n",
       ".xr-attrs dt:hover span {\n",
       "  display: inline-block;\n",
       "  background: var(--xr-background-color);\n",
       "  padding-right: 10px;\n",
       "}\n",
       "\n",
       ".xr-attrs dd {\n",
       "  grid-column: 2;\n",
       "  white-space: pre-wrap;\n",
       "  word-break: break-all;\n",
       "}\n",
       "\n",
       ".xr-icon-database,\n",
       ".xr-icon-file-text2,\n",
       ".xr-no-icon {\n",
       "  display: inline-block;\n",
       "  vertical-align: middle;\n",
       "  width: 1em;\n",
       "  height: 1.5em !important;\n",
       "  stroke-width: 0;\n",
       "  stroke: currentColor;\n",
       "  fill: currentColor;\n",
       "}\n",
       "</style><pre class='xr-text-repr-fallback'>&lt;xarray.Dataset&gt; Size: 4MB\n",
       "Dimensions:  (date: 729, sample: 1500)\n",
       "Coordinates:\n",
       "  * date     (date) datetime64[ns] 6kB 2022-01-01 2022-01-02 ... 2023-12-30\n",
       "  * sample   (sample) object 12kB MultiIndex\n",
       "  * chain    (sample) int32 6kB 0 0 0 0 0 0 0 0 0 0 0 ... 0 0 0 0 0 0 0 0 0 0 0\n",
       "  * draw     (sample) int32 6kB 0 1 2 3 4 5 6 ... 1494 1495 1496 1497 1498 1499\n",
       "Data variables:\n",
       "    y        (date, sample) float32 4MB 2.178 4.622 2.493 ... 2.774 3.019 1.874\n",
       "Attributes:\n",
       "    created_at:                 2025-02-12T13:03:12.328024+00:00\n",
       "    arviz_version:              0.20.0\n",
       "    inference_library:          pymc\n",
       "    inference_library_version:  5.20.0</pre><div class='xr-wrap' style='display:none'><div class='xr-header'><div class='xr-obj-type'>xarray.Dataset</div></div><ul class='xr-sections'><li class='xr-section-item'><input id='section-341abe8e-a7b5-476d-b799-bcac5a2672b6' class='xr-section-summary-in' type='checkbox' disabled ><label for='section-341abe8e-a7b5-476d-b799-bcac5a2672b6' class='xr-section-summary'  title='Expand/collapse section'>Dimensions:</label><div class='xr-section-inline-details'><ul class='xr-dim-list'><li><span class='xr-has-index'>date</span>: 729</li><li><span class='xr-has-index'>sample</span>: 1500</li></ul></div><div class='xr-section-details'></div></li><li class='xr-section-item'><input id='section-f3af3e40-4e11-4fa5-b227-84507c704c00' class='xr-section-summary-in' type='checkbox'  checked><label for='section-f3af3e40-4e11-4fa5-b227-84507c704c00' class='xr-section-summary' >Coordinates: <span>(4)</span></label><div class='xr-section-inline-details'></div><div class='xr-section-details'><ul class='xr-var-list'><li class='xr-var-item'><div class='xr-var-name'><span class='xr-has-index'>date</span></div><div class='xr-var-dims'>(date)</div><div class='xr-var-dtype'>datetime64[ns]</div><div class='xr-var-preview xr-preview'>2022-01-01 ... 2023-12-30</div><input id='attrs-16c7106d-f188-43a7-8cd6-06edb3377253' class='xr-var-attrs-in' type='checkbox' disabled><label for='attrs-16c7106d-f188-43a7-8cd6-06edb3377253' title='Show/Hide attributes'><svg class='icon xr-icon-file-text2'><use xlink:href='#icon-file-text2'></use></svg></label><input id='data-502728e2-1747-4d26-b923-dad4dbb4f3dd' class='xr-var-data-in' type='checkbox'><label for='data-502728e2-1747-4d26-b923-dad4dbb4f3dd' title='Show/Hide data repr'><svg class='icon xr-icon-database'><use xlink:href='#icon-database'></use></svg></label><div class='xr-var-attrs'><dl class='xr-attrs'></dl></div><div class='xr-var-data'><pre>array([&#x27;2022-01-01T00:00:00.000000000&#x27;, &#x27;2022-01-02T00:00:00.000000000&#x27;,\n",
       "       &#x27;2022-01-03T00:00:00.000000000&#x27;, ..., &#x27;2023-12-28T00:00:00.000000000&#x27;,\n",
       "       &#x27;2023-12-29T00:00:00.000000000&#x27;, &#x27;2023-12-30T00:00:00.000000000&#x27;],\n",
       "      dtype=&#x27;datetime64[ns]&#x27;)</pre></div></li><li class='xr-var-item'><div class='xr-var-name'><span class='xr-has-index'>sample</span></div><div class='xr-var-dims'>(sample)</div><div class='xr-var-dtype'>object</div><div class='xr-var-preview xr-preview'>MultiIndex</div><input id='attrs-1ff2ec83-5d9e-44a8-b2a0-e40ad9e66ddd' class='xr-var-attrs-in' type='checkbox' disabled><label for='attrs-1ff2ec83-5d9e-44a8-b2a0-e40ad9e66ddd' title='Show/Hide attributes'><svg class='icon xr-icon-file-text2'><use xlink:href='#icon-file-text2'></use></svg></label><input id='data-765a130c-3fbe-407a-a55f-a77334446c78' class='xr-var-data-in' type='checkbox'><label for='data-765a130c-3fbe-407a-a55f-a77334446c78' title='Show/Hide data repr'><svg class='icon xr-icon-database'><use xlink:href='#icon-database'></use></svg></label><div class='xr-var-attrs'><dl class='xr-attrs'></dl></div><div class='xr-var-data'><pre>array([(0, 0), (0, 1), (0, 2), ..., (0, 1497), (0, 1498), (0, 1499)],\n",
       "      dtype=object)</pre></div></li><li class='xr-var-item'><div class='xr-var-name'><span class='xr-has-index'>chain</span></div><div class='xr-var-dims'>(sample)</div><div class='xr-var-dtype'>int32</div><div class='xr-var-preview xr-preview'>0 0 0 0 0 0 0 0 ... 0 0 0 0 0 0 0 0</div><input id='attrs-2c83c23c-1504-444b-b2f7-7831c2496e52' class='xr-var-attrs-in' type='checkbox' disabled><label for='attrs-2c83c23c-1504-444b-b2f7-7831c2496e52' title='Show/Hide attributes'><svg class='icon xr-icon-file-text2'><use xlink:href='#icon-file-text2'></use></svg></label><input id='data-935d113d-17db-4ca2-9bb4-91438273c741' class='xr-var-data-in' type='checkbox'><label for='data-935d113d-17db-4ca2-9bb4-91438273c741' title='Show/Hide data repr'><svg class='icon xr-icon-database'><use xlink:href='#icon-database'></use></svg></label><div class='xr-var-attrs'><dl class='xr-attrs'></dl></div><div class='xr-var-data'><pre>array([0, 0, 0, ..., 0, 0, 0])</pre></div></li><li class='xr-var-item'><div class='xr-var-name'><span class='xr-has-index'>draw</span></div><div class='xr-var-dims'>(sample)</div><div class='xr-var-dtype'>int32</div><div class='xr-var-preview xr-preview'>0 1 2 3 4 ... 1496 1497 1498 1499</div><input id='attrs-714f3ba9-05dd-4e56-9a20-ad1bd52f4ccb' class='xr-var-attrs-in' type='checkbox' disabled><label for='attrs-714f3ba9-05dd-4e56-9a20-ad1bd52f4ccb' title='Show/Hide attributes'><svg class='icon xr-icon-file-text2'><use xlink:href='#icon-file-text2'></use></svg></label><input id='data-ba86d5f3-dee4-4679-97c2-518285f7091f' class='xr-var-data-in' type='checkbox'><label for='data-ba86d5f3-dee4-4679-97c2-518285f7091f' title='Show/Hide data repr'><svg class='icon xr-icon-database'><use xlink:href='#icon-database'></use></svg></label><div class='xr-var-attrs'><dl class='xr-attrs'></dl></div><div class='xr-var-data'><pre>array([   0,    1,    2, ..., 1497, 1498, 1499])</pre></div></li></ul></div></li><li class='xr-section-item'><input id='section-6e57b403-8139-46c4-9b0f-e7104d109cdb' class='xr-section-summary-in' type='checkbox'  checked><label for='section-6e57b403-8139-46c4-9b0f-e7104d109cdb' class='xr-section-summary' >Data variables: <span>(1)</span></label><div class='xr-section-inline-details'></div><div class='xr-section-details'><ul class='xr-var-list'><li class='xr-var-item'><div class='xr-var-name'><span>y</span></div><div class='xr-var-dims'>(date, sample)</div><div class='xr-var-dtype'>float32</div><div class='xr-var-preview xr-preview'>2.178 4.622 2.493 ... 3.019 1.874</div><input id='attrs-05bf3636-8cb5-4160-ac72-6c568eca013d' class='xr-var-attrs-in' type='checkbox' disabled><label for='attrs-05bf3636-8cb5-4160-ac72-6c568eca013d' title='Show/Hide attributes'><svg class='icon xr-icon-file-text2'><use xlink:href='#icon-file-text2'></use></svg></label><input id='data-4c94f8a4-d80b-4285-b20e-9d2c3a378b7d' class='xr-var-data-in' type='checkbox'><label for='data-4c94f8a4-d80b-4285-b20e-9d2c3a378b7d' title='Show/Hide data repr'><svg class='icon xr-icon-database'><use xlink:href='#icon-database'></use></svg></label><div class='xr-var-attrs'><dl class='xr-attrs'></dl></div><div class='xr-var-data'><pre>array([[ 2.1779554 ,  4.6223392 ,  2.4926405 , ...,  0.32639676,\n",
       "         2.9243784 ,  2.0785117 ],\n",
       "       [ 1.6703992 ,  3.957551  ,  5.276631  , ...,  2.233997  ,\n",
       "         4.253653  ,  2.1627827 ],\n",
       "       [ 0.98642874, -2.2900364 ,  7.0437346 , ...,  2.4324884 ,\n",
       "         2.3885255 ,  2.2934926 ],\n",
       "       ...,\n",
       "       [ 0.37257308,  5.5536585 ,  0.41931912, ...,  3.90644   ,\n",
       "         3.2495298 ,  1.2385619 ],\n",
       "       [-0.36134595,  8.954268  , -1.8236051 , ...,  3.4378269 ,\n",
       "         2.7261636 , -0.8921536 ],\n",
       "       [ 0.7975619 ,  7.0587487 , -0.25193962, ...,  2.7743146 ,\n",
       "         3.0187812 ,  1.8737421 ]], dtype=float32)</pre></div></li></ul></div></li><li class='xr-section-item'><input id='section-fd774b53-c27b-4815-80ec-c9301e6ad839' class='xr-section-summary-in' type='checkbox'  ><label for='section-fd774b53-c27b-4815-80ec-c9301e6ad839' class='xr-section-summary' >Indexes: <span>(2)</span></label><div class='xr-section-inline-details'></div><div class='xr-section-details'><ul class='xr-var-list'><li class='xr-var-item'><div class='xr-index-name'><div>date</div></div><div class='xr-index-preview'>PandasIndex</div><input type='checkbox' disabled/><label></label><input id='index-5049225d-7791-418a-9f8f-7cc404195fd6' class='xr-index-data-in' type='checkbox'/><label for='index-5049225d-7791-418a-9f8f-7cc404195fd6' title='Show/Hide index repr'><svg class='icon xr-icon-database'><use xlink:href='#icon-database'></use></svg></label><div class='xr-index-data'><pre>PandasIndex(DatetimeIndex([&#x27;2022-01-01&#x27;, &#x27;2022-01-02&#x27;, &#x27;2022-01-03&#x27;, &#x27;2022-01-04&#x27;,\n",
       "               &#x27;2022-01-05&#x27;, &#x27;2022-01-06&#x27;, &#x27;2022-01-07&#x27;, &#x27;2022-01-08&#x27;,\n",
       "               &#x27;2022-01-09&#x27;, &#x27;2022-01-10&#x27;,\n",
       "               ...\n",
       "               &#x27;2023-12-21&#x27;, &#x27;2023-12-22&#x27;, &#x27;2023-12-23&#x27;, &#x27;2023-12-24&#x27;,\n",
       "               &#x27;2023-12-25&#x27;, &#x27;2023-12-26&#x27;, &#x27;2023-12-27&#x27;, &#x27;2023-12-28&#x27;,\n",
       "               &#x27;2023-12-29&#x27;, &#x27;2023-12-30&#x27;],\n",
       "              dtype=&#x27;datetime64[ns]&#x27;, name=&#x27;date&#x27;, length=729, freq=None))</pre></div></li><li class='xr-var-item'><div class='xr-index-name'><div>sample<br>chain<br>draw</div></div><div class='xr-index-preview'>PandasMultiIndex</div><input type='checkbox' disabled/><label></label><input id='index-78be77ce-8a69-4125-966f-5b3c9e3990ef' class='xr-index-data-in' type='checkbox'/><label for='index-78be77ce-8a69-4125-966f-5b3c9e3990ef' title='Show/Hide index repr'><svg class='icon xr-icon-database'><use xlink:href='#icon-database'></use></svg></label><div class='xr-index-data'><pre>PandasIndex(MultiIndex([(0,    0),\n",
       "            (0,    1),\n",
       "            (0,    2),\n",
       "            (0,    3),\n",
       "            (0,    4),\n",
       "            (0,    5),\n",
       "            (0,    6),\n",
       "            (0,    7),\n",
       "            (0,    8),\n",
       "            (0,    9),\n",
       "            ...\n",
       "            (0, 1490),\n",
       "            (0, 1491),\n",
       "            (0, 1492),\n",
       "            (0, 1493),\n",
       "            (0, 1494),\n",
       "            (0, 1495),\n",
       "            (0, 1496),\n",
       "            (0, 1497),\n",
       "            (0, 1498),\n",
       "            (0, 1499)],\n",
       "           name=&#x27;sample&#x27;, length=1500))</pre></div></li></ul></div></li><li class='xr-section-item'><input id='section-4c508a37-e193-4143-b389-13ff92f877f9' class='xr-section-summary-in' type='checkbox'  checked><label for='section-4c508a37-e193-4143-b389-13ff92f877f9' class='xr-section-summary' >Attributes: <span>(4)</span></label><div class='xr-section-inline-details'></div><div class='xr-section-details'><dl class='xr-attrs'><dt><span>created_at :</span></dt><dd>2025-02-12T13:03:12.328024+00:00</dd><dt><span>arviz_version :</span></dt><dd>0.20.0</dd><dt><span>inference_library :</span></dt><dd>pymc</dd><dt><span>inference_library_version :</span></dt><dd>5.20.0</dd></dl></div></li></ul></div></div>"
      ],
      "text/plain": [
       "<xarray.Dataset> Size: 4MB\n",
       "Dimensions:  (date: 729, sample: 1500)\n",
       "Coordinates:\n",
       "  * date     (date) datetime64[ns] 6kB 2022-01-01 2022-01-02 ... 2023-12-30\n",
       "  * sample   (sample) object 12kB MultiIndex\n",
       "  * chain    (sample) int32 6kB 0 0 0 0 0 0 0 0 0 0 0 ... 0 0 0 0 0 0 0 0 0 0 0\n",
       "  * draw     (sample) int32 6kB 0 1 2 3 4 5 6 ... 1494 1495 1496 1497 1498 1499\n",
       "Data variables:\n",
       "    y        (date, sample) float32 4MB 2.178 4.622 2.493 ... 2.774 3.019 1.874\n",
       "Attributes:\n",
       "    created_at:                 2025-02-12T13:03:12.328024+00:00\n",
       "    arviz_version:              0.20.0\n",
       "    inference_library:          pymc\n",
       "    inference_library_version:  5.20.0"
      ]
     },
     "execution_count": 50,
     "metadata": {},
     "output_type": "execute_result"
    }
   ],
   "source": [
    "# Sample from prior predictive distribution\n",
    "model_bayesian.sample_prior_predictive(X_train_scaled, y_train_scaled, samples=sampler_config['tune'])"
   ]
  },
  {
   "cell_type": "code",
   "execution_count": 51,
   "id": "8891efb8",
   "metadata": {},
   "outputs": [
    {
     "data": {
      "image/png": "[encoded data removed]",
      "text/plain": [
       "<Figure size 1600x600 with 1 Axes>"
      ]
     },
     "metadata": {},
     "output_type": "display_data"
    }
   ],
   "source": [
    "fig, ax = plt.subplots(figsize=(16, 6))\n",
    "model_bayesian.plot_prior_predictive(ax=ax, original_scale=True)\n",
    "ax.legend(loc=\"lower center\", bbox_to_anchor=(0.5, -0.2), ncol=4);"
   ]
  },
  {
   "cell_type": "markdown",
   "id": "0983faf0",
   "metadata": {},
   "source": [
    "### Fit"
   ]
  },
  {
   "cell_type": "code",
   "execution_count": 52,
   "id": "92c4baa4",
   "metadata": {},
   "outputs": [
    {
     "name": "stderr",
     "output_type": "stream",
     "text": [
      "C:\\Users\\kbope\\anaconda3\\envs\\mmm\\Lib\\site-packages\\jax\\_src\\numpy\\array_methods.py:121: UserWarning: Explicitly requested dtype float64 requested in astype is not available, and will be truncated to dtype float32. To enable more dtypes, set the jax_enable_x64 configuration option or the JAX_ENABLE_X64 shell environment variable. See https://github.com/jax-ml/jax#current-gotchas for more.\n",
      "  return lax_numpy.astype(self, dtype, copy=copy, device=device)\n"
     ]
    },
    {
     "data": {
      "application/vnd.jupyter.widget-view+json": {
       "model_id": "00f6ce52adc849ee84443f6cf348ecf9",
       "version_major": 2,
       "version_minor": 0
      },
      "text/plain": [
       "  0%|          | 0/3500 [00:00<?, ?it/s]"
      ]
     },
     "metadata": {},
     "output_type": "display_data"
    },
    {
     "data": {
      "application/vnd.jupyter.widget-view+json": {
       "model_id": "2a8e292cbb414bcb90416d4d9f3c3354",
       "version_major": 2,
       "version_minor": 0
      },
      "text/plain": [
       "  0%|          | 0/3500 [00:00<?, ?it/s]"
      ]
     },
     "metadata": {},
     "output_type": "display_data"
    },
    {
     "data": {
      "application/vnd.jupyter.widget-view+json": {
       "model_id": "fe535bcbd4154e4c998856f5ed046360",
       "version_major": 2,
       "version_minor": 0
      },
      "text/plain": [
       "  0%|          | 0/3500 [00:00<?, ?it/s]"
      ]
     },
     "metadata": {},
     "output_type": "display_data"
    },
    {
     "data": {
      "application/vnd.jupyter.widget-view+json": {
       "model_id": "a8cd4ed5b0fd4584bac9994857776c8e",
       "version_major": 2,
       "version_minor": 0
      },
      "text/plain": [
       "  0%|          | 0/3500 [00:00<?, ?it/s]"
      ]
     },
     "metadata": {},
     "output_type": "display_data"
    },
    {
     "name": "stderr",
     "output_type": "stream",
     "text": [
      "C:\\Users\\kbope\\anaconda3\\envs\\mmm\\Lib\\site-packages\\jax\\_src\\numpy\\array_methods.py:121: UserWarning: Explicitly requested dtype float64 requested in astype is not available, and will be truncated to dtype float32. To enable more dtypes, set the jax_enable_x64 configuration option or the JAX_ENABLE_X64 shell environment variable. See https://github.com/jax-ml/jax#current-gotchas for more.\n",
      "  return lax_numpy.astype(self, dtype, copy=copy, device=device)\n",
      "There were 25 divergences after tuning. Increase `target_accept` or reparameterize.\n",
      "The rhat statistic is larger than 1.01 for some parameters. This indicates problems during sampling. See https://arxiv.org/abs/1903.08008 for details\n",
      "The effective sample size per chain is smaller than 100 for some parameters.  A higher number is needed for reliable rhat and ess computation. See https://arxiv.org/abs/1903.08008 for details\n"
     ]
    }
   ],
   "source": [
    "_ = model_bayesian.fit(X_train_scaled, y_train_scaled, **sampler_config)"
   ]
  },
  {
   "cell_type": "markdown",
   "id": "202aeb5a",
   "metadata": {},
   "source": [
    "### Cleanup"
   ]
  },
  {
   "cell_type": "code",
   "execution_count": 53,
   "id": "e2c0394d",
   "metadata": {},
   "outputs": [],
   "source": [
    "X_train_scaled.drop(date_column, axis=1, inplace=True)"
   ]
  },
  {
   "cell_type": "markdown",
   "id": "712ead29",
   "metadata": {},
   "source": [
    "### Save Model"
   ]
  },
  {
   "cell_type": "code",
   "execution_count": 54,
   "id": "4142348a",
   "metadata": {},
   "outputs": [],
   "source": [
    "model_bayesian.save('model/model_bayesian.nc')"
   ]
  },
  {
   "cell_type": "markdown",
   "id": "2c1eb1d0",
   "metadata": {},
   "source": [
    "### Load Model"
   ]
  },
  {
   "cell_type": "code",
   "execution_count": 56,
   "id": "a3074368",
   "metadata": {},
   "outputs": [
    {
     "name": "stderr",
     "output_type": "stream",
     "text": [
      "C:\\Users\\kbope\\anaconda3\\envs\\mmm\\Lib\\site-packages\\arviz\\data\\inference_data.py:157: UserWarning: fit_data group is not defined in the InferenceData scheme\n",
      "  warnings.warn(\n"
     ]
    },
    {
     "name": "stdout",
     "output_type": "stream",
     "text": [
      "Attributes of InferenceData:\n",
      "{'id': 'bcbce0522a5869f2', 'model_type': 'MMM', 'version': '0.0.2', 'sampler_config': '{}', 'model_config': '{\"intercept\": {\"dist\": \"HalfNormal\", \"kwargs\": {\"sigma\": 0.5}}, \"likelihood\": {\"dist\": \"Normal\", \"kwargs\": {\"sigma\": {\"dist\": \"HalfNormal\", \"kwargs\": {\"sigma\": 2}}}, \"dims\": [\"date\"]}, \"gamma_control\": {\"dist\": \"Normal\", \"kwargs\": {\"mu\": 0, \"sigma\": 1}, \"dims\": [\"control\"]}, \"gamma_fourier\": {\"dist\": \"Laplace\", \"kwargs\": {\"mu\": 0, \"b\": 1}, \"dims\": [\"fourier_mode\"]}, \"intercept_tvp_config\": {\"m\": 200, \"L\": 729.25, \"eta_lam\": 1.0, \"ls_mu\": 100.0, \"ls_sigma\": 10.0, \"cov_func\": null}, \"media_tvp_config\": {\"m\": 200, \"L\": 729.25, \"eta_lam\": 1.0, \"ls_mu\": 5.0, \"ls_sigma\": 10.0, \"cov_func\": null}, \"adstock_alpha\": {\"dist\": \"Beta\", \"kwargs\": {\"alpha\": 1, \"beta\": 3}, \"dims\": [\"channel\"]}, \"saturation_alpha\": {\"dist\": \"Gamma\", \"kwargs\": {\"mu\": 2, \"sigma\": 1}, \"dims\": [\"channel\"]}, \"saturation_lam\": {\"dist\": \"HalfNormal\", \"kwargs\": {\"sigma\": 1}, \"dims\": [\"channel\"]}}', 'date_column': '\"date_str\"', 'adstock': '{\"lookup_name\": \"geometric\", \"prefix\": \"adstock\", \"priors\": {\"alpha\": {\"dist\": \"Beta\", \"kwargs\": {\"alpha\": 1, \"beta\": 3}, \"dims\": [\"channel\"]}}, \"l_max\": 12, \"normalize\": true, \"mode\": \"After\"}', 'saturation': '{\"lookup_name\": \"michaelis_menten\", \"prefix\": \"saturation\", \"priors\": {\"alpha\": {\"dist\": \"Gamma\", \"kwargs\": {\"mu\": 2, \"sigma\": 1}, \"dims\": [\"channel\"]}, \"lam\": {\"dist\": \"HalfNormal\", \"kwargs\": {\"sigma\": 1}, \"dims\": [\"channel\"]}}}', 'adstock_first': 'true', 'control_columns': '[\"holiday_signal\"]', 'channel_columns': '[\"x1\", \"x2\"]', 'validate_data': 'true', 'yearly_seasonality': 'null', 'time_varying_intercept': 'true', 'time_varying_media': 'true', 'dag': '\"digraph {x1 -> y;\\\\n                         x2 -> y;\\\\n                         x1 -> x2;\\\\n                         holiday_signal -> y;\\\\n                         holiday_signal -> x1;\\\\n                         holiday_signal -> x2;\\\\n                         competitor_offers -> x2;\\\\n                         competitor_offers -> y;\\\\n                         market_growth -> y;}\"', 'treatment_nodes': '[\"x1\", \"x2\"]', 'outcome_node': '\"y\"'}\n",
      "\n",
      "Values of 'fit_data' Dataset group:\n",
      "<xarray.Dataset> Size: 76kB\n",
      "Dimensions:            (date: 729)\n",
      "Coordinates:\n",
      "  * date               (date) datetime64[ns] 6kB 2022-01-01 ... 2023-12-30\n",
      "Data variables:\n",
      "    holiday_signal     (date) float64 6kB ...\n",
      "    competitor_offers  (date) float64 6kB ...\n",
      "    x1                 (date) float64 6kB ...\n",
      "    x2                 (date) float64 6kB ...\n",
      "    market_growth      (date) float64 6kB ...\n",
      "    t                  (date) float64 6kB ...\n",
      "    date_str           (date) <U10 29kB ...\n",
      "    y                  (date) float64 6kB ...\n"
     ]
    }
   ],
   "source": [
    "idata = az.from_netcdf('model/model_bayesian.nc')\n",
    "print(\"Attributes of InferenceData:\")\n",
    "print(idata.attrs)\n",
    "\n",
    "if \"fit_data\" in idata.groups():\n",
    "    print(\"\\nValues of 'fit_data' Dataset group:\")\n",
    "    print(idata.fit_data)\n",
    "else:\n",
    "    print(\"\\n'fit_data' group not found in the InferenceData object.\")"
   ]
  },
  {
   "cell_type": "code",
   "execution_count": 55,
   "id": "d73a4025",
   "metadata": {},
   "outputs": [
    {
     "name": "stderr",
     "output_type": "stream",
     "text": [
      "C:\\Users\\kbope\\anaconda3\\envs\\mmm\\Lib\\site-packages\\dowhy\\causal_model.py:583: UserWarning: 6 variables are assumed unobserved because they are not in the dataset. Configure the logging level to `logging.WARNING` or higher for additional details.\n",
      "  warnings.warn(\n",
      "C:\\Users\\kbope\\anaconda3\\envs\\mmm\\Lib\\site-packages\\pymc_marketing\\mmm\\mmm.py:221: UserWarning: Column competitor_offers in adjustment set not found in data.\n",
      "                    Not controlling for this may induce bias in treatment effect estimates.\n",
      "  self.control_columns = self.causal_graphical_model.compute_adjustment_sets(\n",
      "C:\\Users\\kbope\\anaconda3\\envs\\mmm\\Lib\\site-packages\\pydantic\\_internal\\_validate_call.py:111: UserWarning: Yearly seasonality excluded as it's not required for adjustment.\n",
      "  res = self.__pydantic_validator__.validate_python(pydantic_core.ArgsKwargs(args, kwargs))\n"
     ]
    },
    {
     "ename": "DifferentModelError",
     "evalue": "The file 'model/model_bayesian.nc' does not contain an InferenceData of the same model or configuration as 'MMM'",
     "output_type": "error",
     "traceback": [
      "\u001b[1;31m---------------------------------------------------------------------------\u001b[0m",
      "\u001b[1;31mDifferentModelError\u001b[0m                       Traceback (most recent call last)",
      "File \u001b[1;32m~\\anaconda3\\envs\\mmm\\Lib\\site-packages\\pymc_marketing\\model_builder.py:617\u001b[0m, in \u001b[0;36mModelBuilder.load\u001b[1;34m(cls, fname)\u001b[0m\n\u001b[0;32m    616\u001b[0m \u001b[38;5;28;01mtry\u001b[39;00m:\n\u001b[1;32m--> 617\u001b[0m     \u001b[38;5;28;01mreturn\u001b[39;00m \u001b[38;5;28mcls\u001b[39m\u001b[38;5;241m.\u001b[39mload_from_idata(idata)\n\u001b[0;32m    618\u001b[0m \u001b[38;5;28;01mexcept\u001b[39;00m DifferentModelError \u001b[38;5;28;01mas\u001b[39;00m e:\n",
      "File \u001b[1;32m~\\anaconda3\\envs\\mmm\\Lib\\site-packages\\pymc_marketing\\model_builder.py:572\u001b[0m, in \u001b[0;36mModelBuilder.load_from_idata\u001b[1;34m(cls, idata)\u001b[0m\n\u001b[0;32m    566\u001b[0m     msg \u001b[38;5;241m=\u001b[39m (\n\u001b[0;32m    567\u001b[0m         \u001b[38;5;124m\"\u001b[39m\u001b[38;5;124mThe model id in the InferenceData does not match the model id. \u001b[39m\u001b[38;5;124m\"\u001b[39m\n\u001b[0;32m    568\u001b[0m         \u001b[38;5;124m\"\u001b[39m\u001b[38;5;124mThere was no error loading the inference data, but the model may \u001b[39m\u001b[38;5;124m\"\u001b[39m\n\u001b[0;32m    569\u001b[0m         \u001b[38;5;124m\"\u001b[39m\u001b[38;5;124mbe different. \u001b[39m\u001b[38;5;124m\"\u001b[39m\n\u001b[0;32m    570\u001b[0m         \u001b[38;5;124m\"\u001b[39m\u001b[38;5;124mInvestigate if the model structure or configuration has changed.\u001b[39m\u001b[38;5;124m\"\u001b[39m\n\u001b[0;32m    571\u001b[0m     )\n\u001b[1;32m--> 572\u001b[0m     \u001b[38;5;28;01mraise\u001b[39;00m DifferentModelError(msg)\n\u001b[0;32m    574\u001b[0m \u001b[38;5;28;01mreturn\u001b[39;00m model\n",
      "\u001b[1;31mDifferentModelError\u001b[0m: The model id in the InferenceData does not match the model id. There was no error loading the inference data, but the model may be different. Investigate if the model structure or configuration has changed.",
      "\nThe above exception was the direct cause of the following exception:\n",
      "\u001b[1;31mDifferentModelError\u001b[0m                       Traceback (most recent call last)",
      "Cell \u001b[1;32mIn[55], line 1\u001b[0m\n\u001b[1;32m----> 1\u001b[0m model_bayesian \u001b[38;5;241m=\u001b[39m MMM\u001b[38;5;241m.\u001b[39mload(\u001b[38;5;124m'\u001b[39m\u001b[38;5;124mmodel/model_bayesian.nc\u001b[39m\u001b[38;5;124m'\u001b[39m)\n",
      "File \u001b[1;32m~\\anaconda3\\envs\\mmm\\Lib\\site-packages\\pymc_marketing\\model_builder.py:624\u001b[0m, in \u001b[0;36mModelBuilder.load\u001b[1;34m(cls, fname)\u001b[0m\n\u001b[0;32m    618\u001b[0m \u001b[38;5;28;01mexcept\u001b[39;00m DifferentModelError \u001b[38;5;28;01mas\u001b[39;00m e:\n\u001b[0;32m    619\u001b[0m     error_msg \u001b[38;5;241m=\u001b[39m (\n\u001b[0;32m    620\u001b[0m         \u001b[38;5;124mf\u001b[39m\u001b[38;5;124m\"\u001b[39m\u001b[38;5;124mThe file \u001b[39m\u001b[38;5;124m'\u001b[39m\u001b[38;5;132;01m{\u001b[39;00mfname\u001b[38;5;132;01m}\u001b[39;00m\u001b[38;5;124m'\u001b[39m\u001b[38;5;124m does not contain \u001b[39m\u001b[38;5;124m\"\u001b[39m\n\u001b[0;32m    621\u001b[0m         \u001b[38;5;124m\"\u001b[39m\u001b[38;5;124man InferenceData of the same model \u001b[39m\u001b[38;5;124m\"\u001b[39m\n\u001b[0;32m    622\u001b[0m         \u001b[38;5;124mf\u001b[39m\u001b[38;5;124m\"\u001b[39m\u001b[38;5;124mor configuration as \u001b[39m\u001b[38;5;124m'\u001b[39m\u001b[38;5;132;01m{\u001b[39;00m\u001b[38;5;28mcls\u001b[39m\u001b[38;5;241m.\u001b[39m_model_type\u001b[38;5;132;01m}\u001b[39;00m\u001b[38;5;124m'\u001b[39m\u001b[38;5;124m\"\u001b[39m\n\u001b[0;32m    623\u001b[0m     )\n\u001b[1;32m--> 624\u001b[0m     \u001b[38;5;28;01mraise\u001b[39;00m DifferentModelError(error_msg) \u001b[38;5;28;01mfrom\u001b[39;00m \u001b[38;5;21;01me\u001b[39;00m\n",
      "\u001b[1;31mDifferentModelError\u001b[0m: The file 'model/model_bayesian.nc' does not contain an InferenceData of the same model or configuration as 'MMM'"
     ]
    }
   ],
   "source": [
    "model_bayesian = MMM.load('model/model_bayesian.nc')"
   ]
  },
  {
   "cell_type": "markdown",
   "id": "3bddcbd2",
   "metadata": {},
   "source": [
    "### Diagnostics"
   ]
  },
  {
   "cell_type": "code",
   "execution_count": null,
   "id": "ffab2368",
   "metadata": {},
   "outputs": [],
   "source": [
    "print(model_bayesian.idata['sample_stats']['diverging'].sum().item())"
   ]
  },
  {
   "cell_type": "code",
   "execution_count": null,
   "id": "5881da06",
   "metadata": {},
   "outputs": [],
   "source": [
    "var_names=['y_sigma', 'saturation_lam', 'adstock_alpha', 'gamma_control']\n",
    "if not time_varying_intercept:\n",
    "    var_names += ['intercept']\n",
    "if do_causal:\n",
    "    var_names += ['saturation_alpha']\n",
    "else:\n",
    "    var_names += ['saturation_beta', 'gamma_fourier']\n",
    "\n",
    "print(az.summary(data=model_bayesian.fit_result, var_names=var_names).to_string())"
   ]
  },
  {
   "cell_type": "code",
   "execution_count": null,
   "id": "667ad867",
   "metadata": {},
   "outputs": [],
   "source": [
    "if 'intercept' not in var_names:\n",
    "    var_names += ['intercept']\n",
    "if time_varying_media:\n",
    "    var_names += ['media_temporal_latent_multiplier_raw_eta', \n",
    "                  'media_temporal_latent_multiplier_raw_ls', \n",
    "                  'media_temporal_latent_multiplier_raw_hsgp_coefs']\n",
    "_ = az.plot_trace(data=model_bayesian.fit_result, var_names=var_names, compact=True,\n",
    "                  backend_kwargs={\"figsize\": (16, 16), 'layout': 'constrained'})\n",
    "plt.gcf().suptitle(\"Model Trace\", fontsize=16);"
   ]
  },
  {
   "cell_type": "code",
   "execution_count": null,
   "id": "ae5491b8",
   "metadata": {},
   "outputs": [],
   "source": [
    "# Sample from posterior predictive distribution\n",
    "X_train_scaled[date_column] = pd.to_datetime(X_train_scaled.index)\n",
    "model_bayesian.sample_posterior_predictive(X_train_scaled, original_scale=True, extend_idata=True, combined=True)\n",
    "X_train_scaled.drop(date_column, axis=1, inplace=True)"
   ]
  },
  {
   "cell_type": "code",
   "execution_count": null,
   "id": "f049c0dc",
   "metadata": {},
   "outputs": [],
   "source": [
    "r2 = az.r2_score(y_true=y_train_scaled.values,\n",
    "                 y_pred=model_bayesian.idata.posterior_predictive.stack(sample=('chain', 'draw'))['y'].values.T *\\\n",
    "                 model_bayesian.target_transformer['scaler'].scale_.item()).iloc[0]\n",
    "print(\"Mean of training R2:\", r2)"
   ]
  },
  {
   "cell_type": "code",
   "execution_count": null,
   "id": "2b0feda5",
   "metadata": {},
   "outputs": [],
   "source": [
    "fig, ax = plt.subplots(figsize=(16, 6))\n",
    "model_bayesian.plot_posterior_predictive(ax=ax, original_scale=True, \n",
    "                                         add_mean=True, add_gradient=False)\n",
    "plt.text(0.05, 0.95, f'R2: {r2:.2f}', transform=plt.gca().transAxes,\n",
    "         fontsize=12, verticalalignment='top')\n",
    "ax.legend(loc=\"lower center\", bbox_to_anchor=(0.5, -0.2), ncol=4);"
   ]
  },
  {
   "cell_type": "code",
   "execution_count": null,
   "id": "52a4521a",
   "metadata": {},
   "outputs": [],
   "source": [
    "fig, ax = plt.subplots(figsize=(16, 6))\n",
    "model_bayesian.plot_errors(ax=ax, original_scale=True);\n",
    "ax.legend(loc=\"lower center\", bbox_to_anchor=(0.5, -0.2), ncol=4);"
   ]
  },
  {
   "cell_type": "code",
   "execution_count": null,
   "id": "74f5e5a9",
   "metadata": {},
   "outputs": [],
   "source": [
    "errors = model_bayesian.get_errors(original_scale=True)\n",
    "\n",
    "fig, ax = plt.subplots(figsize=(16, 6))\n",
    "az.plot_dist(errors, quantiles=[0.25, 0.5, 0.75], ax=ax)\n",
    "ax.axvline(x=0, color=\"black\", linestyle='--', label='zero')\n",
    "ax.legend()\n",
    "ax.set(title=\"Errors Posterior Distribution\");"
   ]
  },
  {
   "cell_type": "markdown",
   "id": "72b9fce1",
   "metadata": {},
   "source": [
    "### Contributions"
   ]
  },
  {
   "cell_type": "code",
   "execution_count": null,
   "id": "61713721",
   "metadata": {},
   "outputs": [],
   "source": [
    "figsize = plt.rcParams['figure.figsize']\n",
    "plt.rcParams['figure.figsize'] = [16, 6]"
   ]
  },
  {
   "cell_type": "code",
   "execution_count": null,
   "id": "dabba220",
   "metadata": {},
   "outputs": [],
   "source": [
    "model_bayesian.plot_components_contributions(original_scale=True);"
   ]
  },
  {
   "cell_type": "code",
   "execution_count": null,
   "id": "0075e38d",
   "metadata": {},
   "outputs": [],
   "source": [
    "groups = {'Base': ['intercept', 'yearly_seasonality'] + control_columns}\n",
    "for col in channel_columns:\n",
    "    groups[f'Channel {col}'] = [col]\n",
    "\n",
    "fig = model_bayesian.plot_grouped_contribution_breakdown_over_time(stack_groups=groups, original_scale=True)\n",
    "fig.suptitle(\"Contribution Breakdown over Time\")"
   ]
  },
  {
   "cell_type": "code",
   "execution_count": null,
   "id": "32cf7410",
   "metadata": {},
   "outputs": [],
   "source": [
    "model_bayesian.plot_waterfall_components_decomposition(original_scale=True);"
   ]
  },
  {
   "cell_type": "code",
   "execution_count": null,
   "id": "ab6f4dab",
   "metadata": {},
   "outputs": [],
   "source": [
    "plt.rcParams['figure.figsize'] = figsize"
   ]
  },
  {
   "cell_type": "markdown",
   "id": "f7170df3",
   "metadata": {},
   "source": [
    "### Media Deep Dive"
   ]
  },
  {
   "cell_type": "code",
   "execution_count": null,
   "id": "ebaf5c95",
   "metadata": {
    "scrolled": true
   },
   "outputs": [],
   "source": [
    "mean_contributions_over_time_df = model_bayesian.compute_mean_contributions_over_time(original_scale=True)\n",
    "mean_contributions_over_time_df.head()"
   ]
  },
  {
   "cell_type": "code",
   "execution_count": null,
   "id": "b69968db",
   "metadata": {},
   "outputs": [],
   "source": [
    "channels_contribution_original_scale = model_bayesian.compute_channel_contribution_original_scale()\n",
    "channels_contribution_original_scale_hdi = az.hdi(ary=channels_contribution_original_scale)\n",
    "\n",
    "fig, ax = plt.subplots(nrows=len(channel_columns), figsize=(16, 6), ncols=1, sharex=True, sharey=False, layout='constrained')\n",
    "\n",
    "for i, x in enumerate(channel_columns):\n",
    "    # HDI estimated contribution in the original scale\n",
    "    ax[i].fill_between(\n",
    "        x=X_train_scaled.index,\n",
    "        y1=channels_contribution_original_scale_hdi.sel(channel=x)[\"x\"][:, 0],\n",
    "        y2=channels_contribution_original_scale_hdi.sel(channel=x)[\"x\"][:, 1],\n",
    "        label=rf\"{x} $94\\%$ HDI contribution\",\n",
    "        alpha=0.4)\n",
    "    \n",
    "    # Mean estimated contribution in the original scale\n",
    "    sns.lineplot(\n",
    "        x=X_train_scaled.index,\n",
    "        y=mean_contributions_over_time_df[x].to_numpy(),\n",
    "        label=f\"{x} posterior mean contribution\",\n",
    "        ax=ax[i])\n",
    "    ax[i].legend(loc=\"lower center\", bbox_to_anchor=(0.5, -0.2), ncol=2)\n",
    "    ax[i].set(title=f\"Channel {x} Contribution over Time\", xlabel=None, xticklabels=[])"
   ]
  },
  {
   "cell_type": "code",
   "execution_count": null,
   "id": "f7aa1ab9",
   "metadata": {},
   "outputs": [],
   "source": [
    "model_bayesian.plot_channel_parameter(param_name='adstock_alpha', figsize=(16, 6));"
   ]
  },
  {
   "cell_type": "code",
   "execution_count": null,
   "id": "52ade5a2",
   "metadata": {},
   "outputs": [],
   "source": [
    "model_bayesian.plot_channel_parameter(param_name='saturation_lam', figsize=(16, 6));"
   ]
  },
  {
   "cell_type": "code",
   "execution_count": null,
   "id": "8d0934cf",
   "metadata": {},
   "outputs": [],
   "source": [
    "if do_causal:\n",
    "    model_bayesian.plot_channel_parameter(param_name='saturation_alpha', figsize=(16, 6));\n",
    "else:\n",
    "    model_bayesian.plot_channel_parameter(param_name='saturation_beta', figsize=(16, 6));"
   ]
  },
  {
   "cell_type": "code",
   "execution_count": null,
   "id": "aab67afd",
   "metadata": {},
   "outputs": [],
   "source": [
    "model_bayesian.plot_channel_contribution_share_hdi(figsize=(16, 6));"
   ]
  },
  {
   "cell_type": "code",
   "execution_count": null,
   "id": "a48e78da",
   "metadata": {},
   "outputs": [],
   "source": [
    "fig = model_bayesian.plot_direct_contribution_curves()\n",
    "[ax.set(xlabel='Channel Spend') for ax in fig.axes];"
   ]
  },
  {
   "cell_type": "code",
   "execution_count": null,
   "id": "b8884e1e",
   "metadata": {
    "scrolled": false
   },
   "outputs": [],
   "source": [
    "model_bayesian.plot_channel_contributions_grid(start=0, stop=1.5, num=10, \n",
    "                                               absolute_xrange=True,\n",
    "                                               figsize=(16, 6));"
   ]
  },
  {
   "cell_type": "markdown",
   "id": "a3144fe4",
   "metadata": {},
   "source": [
    "### ROAS"
   ]
  },
  {
   "cell_type": "code",
   "execution_count": null,
   "id": "fbe82b9b",
   "metadata": {},
   "outputs": [],
   "source": [
    "channel_contribution_original_scale = model_bayesian.compute_channel_contribution_original_scale()\n",
    "spend_sum = X_train_scaled[channel_columns].sum().to_numpy()\n",
    "roas_samples = (channel_contribution_original_scale.sum(dim='date') / spend_sum[np.newaxis, np.newaxis, :])\n",
    "\n",
    "fig, axes = plt.subplots(nrows=len(channel_columns), \n",
    "                         ncols=1, figsize=(16, 12), sharex=False, sharey=False, layout='constrained')\n",
    "az.plot_posterior(roas_samples, ax=axes)\n",
    "for i, x in enumerate(channel_columns):\n",
    "    axes[i].set(title=f'Channel {x}')\n",
    "fig.suptitle(\"ROAS Posterior Distributions\", fontsize=16);"
   ]
  },
  {
   "cell_type": "markdown",
   "id": "f1458b26",
   "metadata": {},
   "source": [
    "### Validate"
   ]
  },
  {
   "cell_type": "code",
   "execution_count": null,
   "id": "a0b5d1b7",
   "metadata": {},
   "outputs": [],
   "source": [
    "X_test_scaled, _ = get_scaled_data(do_scaling, scaler_X, scaler_y, X_test, None, model_bayesian.control_columns)\n",
    "X_test_scaled.head()"
   ]
  },
  {
   "cell_type": "code",
   "execution_count": null,
   "id": "40683691",
   "metadata": {},
   "outputs": [],
   "source": [
    "X_test_scaled[model_bayesian.date_column] = pd.to_datetime(X_test_scaled.index)\n",
    "result_samples = model_bayesian.sample_posterior_predictive(X_pred=X_test_scaled,\n",
    "                                                            original_scale=True,\n",
    "                                                            include_last_observations=True,\n",
    "                                                            extend_idata=False)\n",
    "X_test_scaled.drop(model_bayesian.date_column, axis=1, inplace=True)"
   ]
  },
  {
   "cell_type": "code",
   "execution_count": null,
   "id": "e68c9acd",
   "metadata": {},
   "outputs": [],
   "source": [
    "result_scaled = result_samples['y'].to_series().groupby('date').mean()\n",
    "if do_scaling:\n",
    "    result = pd.Series(data=scaler_y.inverse_transform(result_scaled.values.reshape(-1, 1)).flatten(), index=X_test.index)\n",
    "else:\n",
    "    result = result_scaled\n",
    "print(\"MAPE from Bayesian:\", _mape(result, y_test))\n",
    "print(result.head())"
   ]
  },
  {
   "cell_type": "code",
   "execution_count": null,
   "id": "566bf38e",
   "metadata": {},
   "outputs": [],
   "source": [
    "r2 = az.r2_score(y_true=y_test.values,\n",
    "                 y_pred=result.values).iloc[0]\n",
    "print(\"Mean of validation R2:\", r2)"
   ]
  },
  {
   "cell_type": "code",
   "execution_count": null,
   "id": "9419c90b",
   "metadata": {},
   "outputs": [],
   "source": [
    "_, ax = plt.subplots(figsize=(16, 6))\n",
    "ax.plot(X_test.index, y_test, color='black')\n",
    "y_train.plot(ax=ax, color='black', label='observed')\n",
    "\n",
    "lower, upper = quantiles = [0.025, 0.975]\n",
    "conf = result_samples['y'].to_series().groupby('date').quantile(quantiles).unstack()\n",
    "if do_scaling:\n",
    "    conf[lower] = pd.Series(data=scaler_y.inverse_transform(conf[lower].values.reshape(-1, 1)).flatten(), index=X_test.index)\n",
    "    conf[upper] = pd.Series(data=scaler_y.inverse_transform(conf[upper].values.reshape(-1, 1)).flatten(), index=X_test.index)\n",
    "ax.fill_between(X_test.index, conf[lower], conf[upper],\n",
    "                alpha=0.25, color='blue', label='95% confidence interval')\n",
    "result.plot(ax=ax, label='predicted', #marker='o', \n",
    "            color='blue', linestyle='--')\n",
    "\n",
    "ax.set(ylabel='y', title='Predictions')\n",
    "ax.legend(loc='lower center', ncol=3);"
   ]
  },
  {
   "cell_type": "code",
   "execution_count": null,
   "id": "15548db2",
   "metadata": {},
   "outputs": [],
   "source": [
    "_, ax = plt.subplots(figsize=(16, 6))\n",
    "ax.plot(X_test.index, y_test, label='observed', marker='o', color='black')\n",
    "\n",
    "lower, upper = quantiles = [0.025, 0.975]\n",
    "conf = result_samples['y'].to_series().groupby('date').quantile(quantiles).unstack()\n",
    "if do_scaling:\n",
    "    conf[lower] = pd.Series(data=scaler_y.inverse_transform(conf[lower].values.reshape(-1, 1)).flatten(), index=X_test.index)\n",
    "    conf[upper] = pd.Series(data=scaler_y.inverse_transform(conf[upper].values.reshape(-1, 1)).flatten(), index=X_test.index)\n",
    "ax.fill_between(X_test.index, conf[lower], conf[upper],\n",
    "                alpha=0.25, color='blue', label='95% confidence interval')\n",
    "result.plot(ax=ax, label='predicted', marker='o', color='blue', linestyle='--')\n",
    "plt.text(0.05, 0.95, f'R2: {r2:.2f}', transform=plt.gca().transAxes,\n",
    "         fontsize=12, verticalalignment='top')\n",
    "\n",
    "ax.set(ylabel='y', title='Zoomed-in Predictions')\n",
    "ax.legend(loc='lower center', ncol=3);"
   ]
  },
  {
   "cell_type": "markdown",
   "id": "dc4971e3",
   "metadata": {},
   "source": [
    "### Media Spend Contribution Simulations"
   ]
  },
  {
   "cell_type": "code",
   "execution_count": null,
   "id": "30850c22",
   "metadata": {},
   "outputs": [],
   "source": [
    "spends = [0.25, 0.5, 1, 2]\n",
    "\n",
    "fig, axes = plt.subplots(nrows=len(spends), ncols=1,\n",
    "                         figsize=(16, 12), sharex=False, sharey=True, layout='constrained')\n",
    "for ax, spend in zip(axes, spends, strict=True):\n",
    "    model_bayesian.plot_new_spend_contributions(spend_amount=spend, progressbar=False, ax=ax)\n",
    "fig.suptitle(\"Media Spend (one-time) Contribution Simulations\", fontsize=16);"
   ]
  },
  {
   "cell_type": "markdown",
   "id": "2676f8a3",
   "metadata": {},
   "source": [
    "### Lift Test"
   ]
  },
  {
   "cell_type": "code",
   "execution_count": null,
   "id": "7d23d72f",
   "metadata": {},
   "outputs": [],
   "source": [
    "stop"
   ]
  },
  {
   "cell_type": "code",
   "execution_count": null,
   "id": "d747fd03",
   "metadata": {},
   "outputs": [],
   "source": [
    "df_delta = df_train[channel_columns+['y']].diff(periods=1)\n",
    "\n",
    "df_delta['no_change_channel_count'] = (df_delta[channel_columns] == 0).sum(axis=1)\n",
    "df_delta['channel'] = df_delta.apply(lambda row: df_delta[channel_columns].columns[(row[channel_columns] != 0)].tolist()[0]\\\n",
    "                                     if row['no_change_channel_count'] == len(channel_columns) - 1 else None, axis=1)\n",
    "\n",
    "rename_cols = {'y': 'delta_y'}\n",
    "for col in channel_columns:\n",
    "    rename_cols[col] = 'delta_' + col\n",
    "df_delta.rename(columns=rename_cols, inplace=True)\n",
    "\n",
    "df_delta['x'] = df_delta.apply(lambda row: df_train[row['channel']].shift(1)[row.name]\\\n",
    "                               if row['channel'] is not None else None, axis=1)\n",
    "\n",
    "df_delta['delta_x'] = df_delta.apply(lambda row: df_delta['delta_' + row['channel']][row.name]\\\n",
    "                                     if pd.notna(row['channel']) else None, axis=1)\n",
    "\n",
    "df_delta.drop('no_change_channel_count', axis=1, inplace=True)\n",
    "\n",
    "df_delta.head()"
   ]
  },
  {
   "cell_type": "code",
   "execution_count": null,
   "id": "a5b0ba6c",
   "metadata": {},
   "outputs": [],
   "source": [
    "df_lift_test = df_delta.dropna().copy()\n",
    "df_lift_test.drop(['delta_'+col for col in channel_columns], axis=1, inplace=True)\n",
    "df_lift_test = df_lift_test[(df_lift_test['delta_x'] * df_lift_test['delta_y']) >= 0]\n",
    "df_lift_test['sigma'] = df_delta['delta_y'].std()\n",
    "df_lift_test.reset_index(inplace=True)\n",
    "df_lift_test.head()"
   ]
  },
  {
   "cell_type": "code",
   "execution_count": null,
   "id": "ad37562a",
   "metadata": {},
   "outputs": [],
   "source": [
    "_ = MMM.load('model/model_bayesian.nc')\n",
    "\n",
    "date_column = _.date_column\n",
    "channel_columns = _.channel_columns\n",
    "fourier_modes = _.yearly_seasonality\n",
    "\n",
    "model_config = _.model_config\n",
    "time_varying_intercept = _.time_varying_intercept\n",
    "time_varying_media = _.time_varying_media\n",
    "sampler_config = _.sampler_config\n",
    "\n",
    "causal_config = {}\n",
    "if _.dag is not None:\n",
    "    causal_config['dag'] = _.dag\n",
    "    causal_config['outcome_node'] = _.outcome_node"
   ]
  },
  {
   "cell_type": "code",
   "execution_count": null,
   "id": "b3d49e6b",
   "metadata": {},
   "outputs": [],
   "source": [
    "model_bayesian_lift = MMM(date_column=date_column, \n",
    "                          channel_columns=channel_columns, \n",
    "                          control_columns=control_columns,\n",
    "                          adstock=adstock, \n",
    "                          adstock_first=True,\n",
    "                          saturation=saturation, \n",
    "                          yearly_seasonality=fourier_modes,\n",
    "                          time_varying_intercept=time_varying_intercept, \n",
    "                          time_varying_media=time_varying_media, \n",
    "                          **causal_config)\n",
    "model_bayesian_lift.model_config = model_config"
   ]
  },
  {
   "cell_type": "code",
   "execution_count": null,
   "id": "0dc63762",
   "metadata": {},
   "outputs": [],
   "source": [
    "X_train_scaled[date_column] = list(X_train_scaled.index.strftime(\"%Y-%m-%d\"))\n",
    "\n",
    "model_bayesian_lift.build_model(X_train_scaled, y_train_scaled, **sampler_config)\n",
    "model_bayesian_lift.add_lift_test_measurements(df_lift_test=df_lift_test)\n",
    "_ = model_bayesian_lift.fit(X_train_scaled, y_train_scaled, **sampler_config)\n",
    "\n",
    "X_train_scaled.drop(date_column, axis=1, inplace=True)"
   ]
  },
  {
   "cell_type": "code",
   "execution_count": null,
   "id": "bce5714a",
   "metadata": {},
   "outputs": [],
   "source": [
    "X_train_scaled[date_column] = pd.to_datetime(X_train_scaled.index)\n",
    "_ = model_bayesian_lift.sample_posterior_predictive(X_train_scaled, original_scale=True, extend_idata=True, combined=True)\n",
    "X_train_scaled.drop(date_column, axis=1, inplace=True)"
   ]
  },
  {
   "cell_type": "code",
   "execution_count": null,
   "id": "6c67b963",
   "metadata": {},
   "outputs": [],
   "source": [
    "print(model_bayesian_lift.idata['sample_stats']['diverging'].sum().item())"
   ]
  },
  {
   "cell_type": "code",
   "execution_count": null,
   "id": "5314d6c6",
   "metadata": {},
   "outputs": [],
   "source": []
  }
 ],
 "metadata": {
  "kernelspec": {
   "display_name": "Python 3 (ipykernel)",
   "language": "python",
   "name": "python3"
  },
  "language_info": {
   "codemirror_mode": {
    "name": "ipython",
    "version": 3
   },
   "file_extension": ".py",
   "mimetype": "text/x-python",
   "name": "python",
   "nbconvert_exporter": "python",
   "pygments_lexer": "ipython3",
   "version": "3.10.9"
  }
 },
 "nbformat": 4,
 "nbformat_minor": 5
}
